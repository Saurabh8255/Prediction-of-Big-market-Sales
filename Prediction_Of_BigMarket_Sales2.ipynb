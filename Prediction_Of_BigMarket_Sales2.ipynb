{
 "cells": [
  {
   "cell_type": "markdown",
   "id": "282a902b",
   "metadata": {},
   "source": [
    "# Prediction of BigMarket Sales"
   ]
  },
  {
   "cell_type": "markdown",
   "id": "992cabf1",
   "metadata": {},
   "source": [
    "Sales Prediction for Big Mart Outlets\n",
    "The data scientists at BigMart have collected 2013 sales data for 1559 products across 10 stores in different cities. Also, certain attributes of each product and store have been defined. The aim is to build a predictive model and predict the sales of each product at a particular outlet.\n",
    "\n",
    "Using this model, BigMart will try to understand the properties of products and outlets which play a key role in increasing sales."
   ]
  },
  {
   "cell_type": "markdown",
   "id": "52a187b2",
   "metadata": {},
   "source": [
    "# Data Dictionary"
   ]
  },
  {
   "cell_type": "markdown",
   "id": "1a747470",
   "metadata": {},
   "source": [
    "We have train (8523) and test (5681) data set, train data set has both input and output variable(s). You need to predict the sales for test data set."
   ]
  },
  {
   "cell_type": "markdown",
   "id": "778bec45",
   "metadata": {},
   "source": [
    "# Metadata"
   ]
  },
  {
   "cell_type": "raw",
   "id": "6734983f",
   "metadata": {},
   "source": [
    "Item_Identifier\t:- Unique product ID\n",
    "Item_Weight:- \tWeight of product\n",
    "Item_Fat_Content:-\tWhether the product is low fat or not\n",
    "Item_Visibility\t:- The % of total display area of all products in a store allocated to the particular product\n",
    "Item_Type:- \tThe category to which the product belongs\n",
    "Item_MRP\t:- Maximum Retail Price (list price) of the product\n",
    "Outlet_Identifier\t:- Unique store ID\n",
    "Outlet_Establishment_Year\t:- The year in which store was established\n",
    "Outlet_Size\t:- The size of the store in terms of ground area covered\n",
    "Outlet_Location_Type\t:- The type of city in which the store is located\n",
    "Outlet_Type\t:- Whether the outlet is just a grocery store or some sort of supermarket\n",
    "Item_Outlet_Sales\t:- Sales of the product in the particular store. This is the outcome variable to be predicted.\n",
    " "
   ]
  },
  {
   "cell_type": "markdown",
   "id": "cdc28644",
   "metadata": {},
   "source": [
    "# Import The Libraries"
   ]
  },
  {
   "cell_type": "code",
   "execution_count": 224,
   "id": "2c86269e",
   "metadata": {},
   "outputs": [],
   "source": [
    "import pandas as pd\n",
    "import numpy as np\n",
    "import matplotlib.pyplot as plt\n",
    "import seaborn as sns\n",
    "from sklearn.metrics import mean_squared_error"
   ]
  },
  {
   "cell_type": "markdown",
   "id": "077da5c2",
   "metadata": {},
   "source": [
    "# Lets Import the Data set\n"
   ]
  },
  {
   "cell_type": "code",
   "execution_count": 101,
   "id": "7c410dec",
   "metadata": {},
   "outputs": [],
   "source": [
    "train_data = pd.read_csv(\"F:\\Predict BigMarket Sales\\Train.csv\")\n",
    "test_data  = pd.read_csv(\"F:\\Predict BigMarket Sales\\Test.csv\")"
   ]
  },
  {
   "cell_type": "code",
   "execution_count": 102,
   "id": "30a00066",
   "metadata": {},
   "outputs": [
    {
     "data": {
      "text/html": [
       "<div>\n",
       "<style scoped>\n",
       "    .dataframe tbody tr th:only-of-type {\n",
       "        vertical-align: middle;\n",
       "    }\n",
       "\n",
       "    .dataframe tbody tr th {\n",
       "        vertical-align: top;\n",
       "    }\n",
       "\n",
       "    .dataframe thead th {\n",
       "        text-align: right;\n",
       "    }\n",
       "</style>\n",
       "<table border=\"1\" class=\"dataframe\">\n",
       "  <thead>\n",
       "    <tr style=\"text-align: right;\">\n",
       "      <th></th>\n",
       "      <th>Item_Identifier</th>\n",
       "      <th>Item_Weight</th>\n",
       "      <th>Item_Fat_Content</th>\n",
       "      <th>Item_Visibility</th>\n",
       "      <th>Item_Type</th>\n",
       "      <th>Item_MRP</th>\n",
       "      <th>Outlet_Identifier</th>\n",
       "      <th>Outlet_Establishment_Year</th>\n",
       "      <th>Outlet_Size</th>\n",
       "      <th>Outlet_Location_Type</th>\n",
       "      <th>Outlet_Type</th>\n",
       "      <th>Item_Outlet_Sales</th>\n",
       "    </tr>\n",
       "  </thead>\n",
       "  <tbody>\n",
       "    <tr>\n",
       "      <th>0</th>\n",
       "      <td>FDA15</td>\n",
       "      <td>9.30</td>\n",
       "      <td>Low Fat</td>\n",
       "      <td>0.016047</td>\n",
       "      <td>Dairy</td>\n",
       "      <td>249.8092</td>\n",
       "      <td>OUT049</td>\n",
       "      <td>1999</td>\n",
       "      <td>Medium</td>\n",
       "      <td>Tier 1</td>\n",
       "      <td>Supermarket Type1</td>\n",
       "      <td>3735.1380</td>\n",
       "    </tr>\n",
       "    <tr>\n",
       "      <th>1</th>\n",
       "      <td>DRC01</td>\n",
       "      <td>5.92</td>\n",
       "      <td>Regular</td>\n",
       "      <td>0.019278</td>\n",
       "      <td>Soft Drinks</td>\n",
       "      <td>48.2692</td>\n",
       "      <td>OUT018</td>\n",
       "      <td>2009</td>\n",
       "      <td>Medium</td>\n",
       "      <td>Tier 3</td>\n",
       "      <td>Supermarket Type2</td>\n",
       "      <td>443.4228</td>\n",
       "    </tr>\n",
       "    <tr>\n",
       "      <th>2</th>\n",
       "      <td>FDN15</td>\n",
       "      <td>17.50</td>\n",
       "      <td>Low Fat</td>\n",
       "      <td>0.016760</td>\n",
       "      <td>Meat</td>\n",
       "      <td>141.6180</td>\n",
       "      <td>OUT049</td>\n",
       "      <td>1999</td>\n",
       "      <td>Medium</td>\n",
       "      <td>Tier 1</td>\n",
       "      <td>Supermarket Type1</td>\n",
       "      <td>2097.2700</td>\n",
       "    </tr>\n",
       "    <tr>\n",
       "      <th>3</th>\n",
       "      <td>FDX07</td>\n",
       "      <td>19.20</td>\n",
       "      <td>Regular</td>\n",
       "      <td>0.000000</td>\n",
       "      <td>Fruits and Vegetables</td>\n",
       "      <td>182.0950</td>\n",
       "      <td>OUT010</td>\n",
       "      <td>1998</td>\n",
       "      <td>NaN</td>\n",
       "      <td>Tier 3</td>\n",
       "      <td>Grocery Store</td>\n",
       "      <td>732.3800</td>\n",
       "    </tr>\n",
       "    <tr>\n",
       "      <th>4</th>\n",
       "      <td>NCD19</td>\n",
       "      <td>8.93</td>\n",
       "      <td>Low Fat</td>\n",
       "      <td>0.000000</td>\n",
       "      <td>Household</td>\n",
       "      <td>53.8614</td>\n",
       "      <td>OUT013</td>\n",
       "      <td>1987</td>\n",
       "      <td>High</td>\n",
       "      <td>Tier 3</td>\n",
       "      <td>Supermarket Type1</td>\n",
       "      <td>994.7052</td>\n",
       "    </tr>\n",
       "  </tbody>\n",
       "</table>\n",
       "</div>"
      ],
      "text/plain": [
       "  Item_Identifier  Item_Weight Item_Fat_Content  Item_Visibility  \\\n",
       "0           FDA15         9.30          Low Fat         0.016047   \n",
       "1           DRC01         5.92          Regular         0.019278   \n",
       "2           FDN15        17.50          Low Fat         0.016760   \n",
       "3           FDX07        19.20          Regular         0.000000   \n",
       "4           NCD19         8.93          Low Fat         0.000000   \n",
       "\n",
       "               Item_Type  Item_MRP Outlet_Identifier  \\\n",
       "0                  Dairy  249.8092            OUT049   \n",
       "1            Soft Drinks   48.2692            OUT018   \n",
       "2                   Meat  141.6180            OUT049   \n",
       "3  Fruits and Vegetables  182.0950            OUT010   \n",
       "4              Household   53.8614            OUT013   \n",
       "\n",
       "   Outlet_Establishment_Year Outlet_Size Outlet_Location_Type  \\\n",
       "0                       1999      Medium               Tier 1   \n",
       "1                       2009      Medium               Tier 3   \n",
       "2                       1999      Medium               Tier 1   \n",
       "3                       1998         NaN               Tier 3   \n",
       "4                       1987        High               Tier 3   \n",
       "\n",
       "         Outlet_Type  Item_Outlet_Sales  \n",
       "0  Supermarket Type1          3735.1380  \n",
       "1  Supermarket Type2           443.4228  \n",
       "2  Supermarket Type1          2097.2700  \n",
       "3      Grocery Store           732.3800  \n",
       "4  Supermarket Type1           994.7052  "
      ]
     },
     "execution_count": 102,
     "metadata": {},
     "output_type": "execute_result"
    }
   ],
   "source": [
    "train_data.head()"
   ]
  },
  {
   "cell_type": "code",
   "execution_count": 103,
   "id": "4595e0c8",
   "metadata": {},
   "outputs": [
    {
     "data": {
      "text/html": [
       "<div>\n",
       "<style scoped>\n",
       "    .dataframe tbody tr th:only-of-type {\n",
       "        vertical-align: middle;\n",
       "    }\n",
       "\n",
       "    .dataframe tbody tr th {\n",
       "        vertical-align: top;\n",
       "    }\n",
       "\n",
       "    .dataframe thead th {\n",
       "        text-align: right;\n",
       "    }\n",
       "</style>\n",
       "<table border=\"1\" class=\"dataframe\">\n",
       "  <thead>\n",
       "    <tr style=\"text-align: right;\">\n",
       "      <th></th>\n",
       "      <th>Item_Identifier</th>\n",
       "      <th>Item_Weight</th>\n",
       "      <th>Item_Fat_Content</th>\n",
       "      <th>Item_Visibility</th>\n",
       "      <th>Item_Type</th>\n",
       "      <th>Item_MRP</th>\n",
       "      <th>Outlet_Identifier</th>\n",
       "      <th>Outlet_Establishment_Year</th>\n",
       "      <th>Outlet_Size</th>\n",
       "      <th>Outlet_Location_Type</th>\n",
       "      <th>Outlet_Type</th>\n",
       "    </tr>\n",
       "  </thead>\n",
       "  <tbody>\n",
       "    <tr>\n",
       "      <th>0</th>\n",
       "      <td>FDW58</td>\n",
       "      <td>20.750</td>\n",
       "      <td>Low Fat</td>\n",
       "      <td>0.007565</td>\n",
       "      <td>Snack Foods</td>\n",
       "      <td>107.8622</td>\n",
       "      <td>OUT049</td>\n",
       "      <td>1999</td>\n",
       "      <td>Medium</td>\n",
       "      <td>Tier 1</td>\n",
       "      <td>Supermarket Type1</td>\n",
       "    </tr>\n",
       "    <tr>\n",
       "      <th>1</th>\n",
       "      <td>FDW14</td>\n",
       "      <td>8.300</td>\n",
       "      <td>reg</td>\n",
       "      <td>0.038428</td>\n",
       "      <td>Dairy</td>\n",
       "      <td>87.3198</td>\n",
       "      <td>OUT017</td>\n",
       "      <td>2007</td>\n",
       "      <td>NaN</td>\n",
       "      <td>Tier 2</td>\n",
       "      <td>Supermarket Type1</td>\n",
       "    </tr>\n",
       "    <tr>\n",
       "      <th>2</th>\n",
       "      <td>NCN55</td>\n",
       "      <td>14.600</td>\n",
       "      <td>Low Fat</td>\n",
       "      <td>0.099575</td>\n",
       "      <td>Others</td>\n",
       "      <td>241.7538</td>\n",
       "      <td>OUT010</td>\n",
       "      <td>1998</td>\n",
       "      <td>NaN</td>\n",
       "      <td>Tier 3</td>\n",
       "      <td>Grocery Store</td>\n",
       "    </tr>\n",
       "    <tr>\n",
       "      <th>3</th>\n",
       "      <td>FDQ58</td>\n",
       "      <td>7.315</td>\n",
       "      <td>Low Fat</td>\n",
       "      <td>0.015388</td>\n",
       "      <td>Snack Foods</td>\n",
       "      <td>155.0340</td>\n",
       "      <td>OUT017</td>\n",
       "      <td>2007</td>\n",
       "      <td>NaN</td>\n",
       "      <td>Tier 2</td>\n",
       "      <td>Supermarket Type1</td>\n",
       "    </tr>\n",
       "    <tr>\n",
       "      <th>4</th>\n",
       "      <td>FDY38</td>\n",
       "      <td>NaN</td>\n",
       "      <td>Regular</td>\n",
       "      <td>0.118599</td>\n",
       "      <td>Dairy</td>\n",
       "      <td>234.2300</td>\n",
       "      <td>OUT027</td>\n",
       "      <td>1985</td>\n",
       "      <td>Medium</td>\n",
       "      <td>Tier 3</td>\n",
       "      <td>Supermarket Type3</td>\n",
       "    </tr>\n",
       "  </tbody>\n",
       "</table>\n",
       "</div>"
      ],
      "text/plain": [
       "  Item_Identifier  Item_Weight Item_Fat_Content  Item_Visibility    Item_Type  \\\n",
       "0           FDW58       20.750          Low Fat         0.007565  Snack Foods   \n",
       "1           FDW14        8.300              reg         0.038428        Dairy   \n",
       "2           NCN55       14.600          Low Fat         0.099575       Others   \n",
       "3           FDQ58        7.315          Low Fat         0.015388  Snack Foods   \n",
       "4           FDY38          NaN          Regular         0.118599        Dairy   \n",
       "\n",
       "   Item_MRP Outlet_Identifier  Outlet_Establishment_Year Outlet_Size  \\\n",
       "0  107.8622            OUT049                       1999      Medium   \n",
       "1   87.3198            OUT017                       2007         NaN   \n",
       "2  241.7538            OUT010                       1998         NaN   \n",
       "3  155.0340            OUT017                       2007         NaN   \n",
       "4  234.2300            OUT027                       1985      Medium   \n",
       "\n",
       "  Outlet_Location_Type        Outlet_Type  \n",
       "0               Tier 1  Supermarket Type1  \n",
       "1               Tier 2  Supermarket Type1  \n",
       "2               Tier 3      Grocery Store  \n",
       "3               Tier 2  Supermarket Type1  \n",
       "4               Tier 3  Supermarket Type3  "
      ]
     },
     "execution_count": 103,
     "metadata": {},
     "output_type": "execute_result"
    }
   ],
   "source": [
    "test_data.head()"
   ]
  },
  {
   "cell_type": "code",
   "execution_count": 104,
   "id": "9d8fc60c",
   "metadata": {},
   "outputs": [
    {
     "name": "stdout",
     "output_type": "stream",
     "text": [
      "rows, column: (8523, 12)\n",
      "rows, column: (5681, 11)\n"
     ]
    }
   ],
   "source": [
    "print(\"rows, column:\",  train_data.shape)\n",
    "print(\"rows, column:\",  test_data.shape)"
   ]
  },
  {
   "cell_type": "code",
   "execution_count": 105,
   "id": "82c3801b",
   "metadata": {},
   "outputs": [
    {
     "data": {
      "text/plain": [
       "Item_Identifier               object\n",
       "Item_Weight                  float64\n",
       "Item_Fat_Content              object\n",
       "Item_Visibility              float64\n",
       "Item_Type                     object\n",
       "Item_MRP                     float64\n",
       "Outlet_Identifier             object\n",
       "Outlet_Establishment_Year      int64\n",
       "Outlet_Size                   object\n",
       "Outlet_Location_Type          object\n",
       "Outlet_Type                   object\n",
       "Item_Outlet_Sales            float64\n",
       "dtype: object"
      ]
     },
     "execution_count": 105,
     "metadata": {},
     "output_type": "execute_result"
    }
   ],
   "source": [
    "train_data.dtypes"
   ]
  },
  {
   "cell_type": "code",
   "execution_count": 106,
   "id": "881d38e6",
   "metadata": {},
   "outputs": [
    {
     "name": "stdout",
     "output_type": "stream",
     "text": [
      "<class 'pandas.core.frame.DataFrame'>\n",
      "RangeIndex: 8523 entries, 0 to 8522\n",
      "Data columns (total 12 columns):\n",
      " #   Column                     Non-Null Count  Dtype  \n",
      "---  ------                     --------------  -----  \n",
      " 0   Item_Identifier            8523 non-null   object \n",
      " 1   Item_Weight                7060 non-null   float64\n",
      " 2   Item_Fat_Content           8523 non-null   object \n",
      " 3   Item_Visibility            8523 non-null   float64\n",
      " 4   Item_Type                  8523 non-null   object \n",
      " 5   Item_MRP                   8523 non-null   float64\n",
      " 6   Outlet_Identifier          8523 non-null   object \n",
      " 7   Outlet_Establishment_Year  8523 non-null   int64  \n",
      " 8   Outlet_Size                6113 non-null   object \n",
      " 9   Outlet_Location_Type       8523 non-null   object \n",
      " 10  Outlet_Type                8523 non-null   object \n",
      " 11  Item_Outlet_Sales          8523 non-null   float64\n",
      "dtypes: float64(4), int64(1), object(7)\n",
      "memory usage: 799.2+ KB\n"
     ]
    }
   ],
   "source": [
    "train_data.info()"
   ]
  },
  {
   "cell_type": "code",
   "execution_count": 107,
   "id": "6bac0dd8",
   "metadata": {},
   "outputs": [
    {
     "data": {
      "text/html": [
       "<div>\n",
       "<style scoped>\n",
       "    .dataframe tbody tr th:only-of-type {\n",
       "        vertical-align: middle;\n",
       "    }\n",
       "\n",
       "    .dataframe tbody tr th {\n",
       "        vertical-align: top;\n",
       "    }\n",
       "\n",
       "    .dataframe thead th {\n",
       "        text-align: right;\n",
       "    }\n",
       "</style>\n",
       "<table border=\"1\" class=\"dataframe\">\n",
       "  <thead>\n",
       "    <tr style=\"text-align: right;\">\n",
       "      <th></th>\n",
       "      <th>Item_Weight</th>\n",
       "      <th>Item_Visibility</th>\n",
       "      <th>Item_MRP</th>\n",
       "      <th>Outlet_Establishment_Year</th>\n",
       "      <th>Item_Outlet_Sales</th>\n",
       "    </tr>\n",
       "  </thead>\n",
       "  <tbody>\n",
       "    <tr>\n",
       "      <th>count</th>\n",
       "      <td>7060.000000</td>\n",
       "      <td>8523.000000</td>\n",
       "      <td>8523.000000</td>\n",
       "      <td>8523.000000</td>\n",
       "      <td>8523.000000</td>\n",
       "    </tr>\n",
       "    <tr>\n",
       "      <th>mean</th>\n",
       "      <td>12.857645</td>\n",
       "      <td>0.066132</td>\n",
       "      <td>140.992782</td>\n",
       "      <td>1997.831867</td>\n",
       "      <td>2181.288914</td>\n",
       "    </tr>\n",
       "    <tr>\n",
       "      <th>std</th>\n",
       "      <td>4.643456</td>\n",
       "      <td>0.051598</td>\n",
       "      <td>62.275067</td>\n",
       "      <td>8.371760</td>\n",
       "      <td>1706.499616</td>\n",
       "    </tr>\n",
       "    <tr>\n",
       "      <th>min</th>\n",
       "      <td>4.555000</td>\n",
       "      <td>0.000000</td>\n",
       "      <td>31.290000</td>\n",
       "      <td>1985.000000</td>\n",
       "      <td>33.290000</td>\n",
       "    </tr>\n",
       "    <tr>\n",
       "      <th>25%</th>\n",
       "      <td>8.773750</td>\n",
       "      <td>0.026989</td>\n",
       "      <td>93.826500</td>\n",
       "      <td>1987.000000</td>\n",
       "      <td>834.247400</td>\n",
       "    </tr>\n",
       "    <tr>\n",
       "      <th>50%</th>\n",
       "      <td>12.600000</td>\n",
       "      <td>0.053931</td>\n",
       "      <td>143.012800</td>\n",
       "      <td>1999.000000</td>\n",
       "      <td>1794.331000</td>\n",
       "    </tr>\n",
       "    <tr>\n",
       "      <th>75%</th>\n",
       "      <td>16.850000</td>\n",
       "      <td>0.094585</td>\n",
       "      <td>185.643700</td>\n",
       "      <td>2004.000000</td>\n",
       "      <td>3101.296400</td>\n",
       "    </tr>\n",
       "    <tr>\n",
       "      <th>max</th>\n",
       "      <td>21.350000</td>\n",
       "      <td>0.328391</td>\n",
       "      <td>266.888400</td>\n",
       "      <td>2009.000000</td>\n",
       "      <td>13086.964800</td>\n",
       "    </tr>\n",
       "  </tbody>\n",
       "</table>\n",
       "</div>"
      ],
      "text/plain": [
       "       Item_Weight  Item_Visibility     Item_MRP  Outlet_Establishment_Year  \\\n",
       "count  7060.000000      8523.000000  8523.000000                8523.000000   \n",
       "mean     12.857645         0.066132   140.992782                1997.831867   \n",
       "std       4.643456         0.051598    62.275067                   8.371760   \n",
       "min       4.555000         0.000000    31.290000                1985.000000   \n",
       "25%       8.773750         0.026989    93.826500                1987.000000   \n",
       "50%      12.600000         0.053931   143.012800                1999.000000   \n",
       "75%      16.850000         0.094585   185.643700                2004.000000   \n",
       "max      21.350000         0.328391   266.888400                2009.000000   \n",
       "\n",
       "       Item_Outlet_Sales  \n",
       "count        8523.000000  \n",
       "mean         2181.288914  \n",
       "std          1706.499616  \n",
       "min            33.290000  \n",
       "25%           834.247400  \n",
       "50%          1794.331000  \n",
       "75%          3101.296400  \n",
       "max         13086.964800  "
      ]
     },
     "execution_count": 107,
     "metadata": {},
     "output_type": "execute_result"
    }
   ],
   "source": [
    "train_data.describe()"
   ]
  },
  {
   "cell_type": "markdown",
   "id": "2f6808aa",
   "metadata": {},
   "source": [
    "# Handling missing values"
   ]
  },
  {
   "cell_type": "code",
   "execution_count": 108,
   "id": "94f69bc9",
   "metadata": {},
   "outputs": [
    {
     "data": {
      "text/plain": [
       "Outlet_Size                  2410\n",
       "Item_Weight                  1463\n",
       "Item_Identifier                 0\n",
       "Item_Fat_Content                0\n",
       "Item_Visibility                 0\n",
       "Item_Type                       0\n",
       "Item_MRP                        0\n",
       "Outlet_Identifier               0\n",
       "Outlet_Establishment_Year       0\n",
       "Outlet_Location_Type            0\n",
       "Outlet_Type                     0\n",
       "Item_Outlet_Sales               0\n",
       "dtype: int64"
      ]
     },
     "execution_count": 108,
     "metadata": {},
     "output_type": "execute_result"
    }
   ],
   "source": [
    "train_data.isnull().sum().sort_values(ascending = False)"
   ]
  },
  {
   "cell_type": "markdown",
   "id": "9a7761e2",
   "metadata": {},
   "source": [
    "# Handling missing values in Outlet_size column"
   ]
  },
  {
   "cell_type": "code",
   "execution_count": 109,
   "id": "a24c4753",
   "metadata": {},
   "outputs": [],
   "source": [
    "# Group by Outlet_Type and calculate mode Outlet_Size for each category\n",
    "category_mode = train_data.groupby('Outlet_Type')['Outlet_Size'].apply(lambda x: x.mode().iloc[0])\n",
    "\n",
    "\n",
    "# Function to impute missing Outlet_Size based on category\n",
    "def impute_outlet_size(row):\n",
    "    if pd.isnull(row['Outlet_Size']):\n",
    "        return category_mode.get(row['Outlet_Type'], None)\n",
    "    return row['Outlet_Size']\n",
    "\n",
    "# Apply the imputation function to the DataFrame\n",
    "train_data['Outlet_Size'] = train_data.apply(impute_outlet_size, axis=1)\n",
    "\n"
   ]
  },
  {
   "cell_type": "markdown",
   "id": "dbd1b322",
   "metadata": {},
   "source": [
    " Now only item_weight column has null values for that I will check the dependency of otem_weight column and Item_Outlet_Sales by correlation of their is no corrleation I will simply drop that whole column."
   ]
  },
  {
   "cell_type": "code",
   "execution_count": 110,
   "id": "190f1ee8",
   "metadata": {},
   "outputs": [
    {
     "name": "stderr",
     "output_type": "stream",
     "text": [
      "C:\\Users\\Admin\\AppData\\Local\\Temp\\ipykernel_5968\\2987843140.py:2: FutureWarning: The default value of numeric_only in DataFrame.corr is deprecated. In a future version, it will default to False. Select only valid columns or specify the value of numeric_only to silence this warning.\n",
      "  correlation_matrix = train_data.corr()\n"
     ]
    },
    {
     "data": {
      "image/png": "[encoded data removed]",
      "text/plain": [
       "<Figure size 1000x400 with 2 Axes>"
      ]
     },
     "metadata": {},
     "output_type": "display_data"
    }
   ],
   "source": [
    "# Calculate the correlation matrix\n",
    "correlation_matrix = train_data.corr()\n",
    "\n",
    "# Create a heatmap using seaborn\n",
    "plt.figure(figsize=(10, 4))\n",
    "sns.heatmap(correlation_matrix, annot=True, cmap='coolwarm', center=0)\n",
    "plt.title('Correlation Heatmap')\n",
    "plt.show()"
   ]
  },
  {
   "cell_type": "markdown",
   "id": "de0f8778",
   "metadata": {},
   "source": [
    "As we can see that their is weak correlation between Item_weight and Item_Outlet_Sales. we can drop that Item_weight Column."
   ]
  },
  {
   "cell_type": "code",
   "execution_count": 111,
   "id": "2ef43f1a",
   "metadata": {},
   "outputs": [],
   "source": [
    "# Drop the 'Item_Weight ' column\n",
    "train_data.drop('Item_Weight', axis=1, inplace=True)"
   ]
  },
  {
   "cell_type": "markdown",
   "id": "038a0f74",
   "metadata": {},
   "source": [
    "Now our train dataset does not have any null values. We will now apply same procedure for the test dataset to remove null values\n",
    "from the data."
   ]
  },
  {
   "cell_type": "code",
   "execution_count": 112,
   "id": "c21f884a",
   "metadata": {},
   "outputs": [
    {
     "data": {
      "text/plain": [
       "Outlet_Size                  1606\n",
       "Item_Weight                   976\n",
       "Item_Identifier                 0\n",
       "Item_Fat_Content                0\n",
       "Item_Visibility                 0\n",
       "Item_Type                       0\n",
       "Item_MRP                        0\n",
       "Outlet_Identifier               0\n",
       "Outlet_Establishment_Year       0\n",
       "Outlet_Location_Type            0\n",
       "Outlet_Type                     0\n",
       "dtype: int64"
      ]
     },
     "execution_count": 112,
     "metadata": {},
     "output_type": "execute_result"
    }
   ],
   "source": [
    "test_data.isnull().sum().sort_values(ascending = False)"
   ]
  },
  {
   "cell_type": "code",
   "execution_count": 113,
   "id": "5ecdfd1f",
   "metadata": {},
   "outputs": [],
   "source": [
    "# Group by Outlet_Type and calculate mode Outlet_Size for each category\n",
    "category_mode = test_data.groupby('Outlet_Type')['Outlet_Size'].apply(lambda x: x.mode().iloc[0])\n",
    "\n",
    "\n",
    "# Function to impute missing Outlet_Size based on category\n",
    "def impute_outlet_size(row):\n",
    "    if pd.isnull(row['Outlet_Size']):\n",
    "        return category_mode.get(row['Outlet_Type'], None)\n",
    "    return row['Outlet_Size']\n",
    "\n",
    "# Apply the imputation function to the DataFrame\n",
    "test_data['Outlet_Size'] = test_data.apply(impute_outlet_size, axis=1)\n"
   ]
  },
  {
   "cell_type": "code",
   "execution_count": 114,
   "id": "63a147ec",
   "metadata": {},
   "outputs": [],
   "source": [
    "# Drop the 'Item_Weight ' column\n",
    "test_data.drop('Item_Weight', axis=1, inplace=True)"
   ]
  },
  {
   "cell_type": "markdown",
   "id": "af3549c4",
   "metadata": {},
   "source": [
    "Now both the dataset 'train_data' and 'test_data' does not have missing values"
   ]
  },
  {
   "cell_type": "code",
   "execution_count": 115,
   "id": "c27eb954",
   "metadata": {},
   "outputs": [
    {
     "name": "stdout",
     "output_type": "stream",
     "text": [
      "rows, column: (8523, 11)\n",
      "rows, column: (5681, 10)\n"
     ]
    }
   ],
   "source": [
    "print(\"rows, column:\",  train_data.shape)\n",
    "print(\"rows, column:\",  test_data.shape)"
   ]
  },
  {
   "cell_type": "markdown",
   "id": "683d8e2c",
   "metadata": {},
   "source": [
    "# Now we will do some Exploratory Data Analysis\n"
   ]
  },
  {
   "cell_type": "code",
   "execution_count": 116,
   "id": "a9a13b29",
   "metadata": {},
   "outputs": [
    {
     "data": {
      "image/png": "[encoded data removed]",
      "text/plain": [
       "<Figure size 800x600 with 1 Axes>"
      ]
     },
     "metadata": {},
     "output_type": "display_data"
    }
   ],
   "source": [
    "# Create a box plot using seaborn\n",
    "plt.figure(figsize=(8, 6))\n",
    "sns.boxplot(data=train_data, x='Outlet_Identifier', y='Item_Outlet_Sales')\n",
    "plt.title('Outlet_Identifier by Item_Outlet_Sales')\n",
    "plt.xlabel('Outlet_Identifier')\n",
    "plt.ylabel('Item_Outlet_Sales')\n",
    "plt.show()"
   ]
  },
  {
   "cell_type": "markdown",
   "id": "f7175a0b",
   "metadata": {},
   "source": [
    "From the above boxplots we can see that Outlet_10 and Outlet_19 has less contributed to the Total sales"
   ]
  },
  {
   "cell_type": "markdown",
   "id": "97400ef0",
   "metadata": {},
   "source": [
    "# Handling the Outliers on train as well as test data"
   ]
  },
  {
   "cell_type": "code",
   "execution_count": 117,
   "id": "803f2e5a",
   "metadata": {},
   "outputs": [
    {
     "data": {
      "text/plain": [
       "['Item_Visibility', 'Item_MRP', 'Item_Outlet_Sales']"
      ]
     },
     "execution_count": 117,
     "metadata": {},
     "output_type": "execute_result"
    }
   ],
   "source": [
    "float_col = list(train_data.select_dtypes(['float64']).columns)\n",
    "float_col"
   ]
  },
  {
   "cell_type": "code",
   "execution_count": 118,
   "id": "2145cbe5",
   "metadata": {},
   "outputs": [],
   "source": [
    "for column in train_data.columns:\n",
    "    if train_data[column].dtype == 'object':\n",
    "        try:\n",
    "            train_data[column] = train_data[column].astype('int64')\n",
    "        except ValueError:\n",
    "            pass "
   ]
  },
  {
   "cell_type": "code",
   "execution_count": 119,
   "id": "57e6e27f",
   "metadata": {},
   "outputs": [
    {
     "data": {
      "text/plain": [
       "['Outlet_Establishment_Year']"
      ]
     },
     "execution_count": 119,
     "metadata": {},
     "output_type": "execute_result"
    }
   ],
   "source": [
    "int_col = list(train_data.select_dtypes(['int64']).columns)\n",
    "int_col"
   ]
  },
  {
   "cell_type": "code",
   "execution_count": 120,
   "id": "9bb40487",
   "metadata": {},
   "outputs": [
    {
     "data": {
      "text/plain": [
       "['Item_Identifier',\n",
       " 'Item_Fat_Content',\n",
       " 'Item_Type',\n",
       " 'Outlet_Identifier',\n",
       " 'Outlet_Size',\n",
       " 'Outlet_Location_Type',\n",
       " 'Outlet_Type']"
      ]
     },
     "execution_count": 120,
     "metadata": {},
     "output_type": "execute_result"
    }
   ],
   "source": [
    "obj_col = list(train_data.select_dtypes(['object']).columns)\n",
    "obj_col"
   ]
  },
  {
   "cell_type": "markdown",
   "id": "9c99ed40",
   "metadata": {},
   "source": [
    "# Checking Outliers in float columns"
   ]
  },
  {
   "cell_type": "code",
   "execution_count": 121,
   "id": "1d70e087",
   "metadata": {},
   "outputs": [
    {
     "name": "stdout",
     "output_type": "stream",
     "text": [
      "Item_Visibility has ===>   144 outliers\n",
      "Item_MRP has ===>   0 outliers\n",
      "Item_Outlet_Sales has ===>   186 outliers\n"
     ]
    }
   ],
   "source": [
    "for i in float_col:\n",
    "    Q3, Q1 = np.percentile(train_data[i], [75 ,25])\n",
    "    iqr= Q3 - Q1\n",
    "    low = Q1 - (1.5*iqr)\n",
    "    high = Q3 + (1.5*iqr)\n",
    "    x=train_data[i][train_data[i]>high]\n",
    "    y=train_data[i][train_data[i]<low]\n",
    "    print(i,'has ===>  ',x.shape[0]+y.shape[0],'outliers')"
   ]
  },
  {
   "cell_type": "code",
   "execution_count": 122,
   "id": "fd0d41d5",
   "metadata": {},
   "outputs": [
    {
     "name": "stdout",
     "output_type": "stream",
     "text": [
      "-0.07440424500000001 0.195979015\n",
      "0.067595815\n",
      "-43.8993 323.3695\n",
      "91.8172\n",
      "-2566.3261 6501.8699\n",
      "2267.049\n"
     ]
    }
   ],
   "source": [
    "for i in float_col:\n",
    "    Q3, Q1 = np.percentile(train_data[i], [75 ,25])\n",
    "    iqr= Q3 - Q1\n",
    "    low = Q1 - (1.5*iqr)\n",
    "    high = Q3 + (1.5*iqr)\n",
    "    print(low,high)\n",
    "    print(iqr)"
   ]
  },
  {
   "cell_type": "code",
   "execution_count": 123,
   "id": "7693fc18",
   "metadata": {},
   "outputs": [
    {
     "data": {
      "text/plain": [
       "0.0945852925"
      ]
     },
     "execution_count": 123,
     "metadata": {},
     "output_type": "execute_result"
    }
   ],
   "source": [
    "train_data['Item_Visibility'].quantile(.75)"
   ]
  },
  {
   "cell_type": "code",
   "execution_count": 124,
   "id": "7a95c744",
   "metadata": {},
   "outputs": [
    {
     "data": {
      "text/plain": [
       "3101.2964"
      ]
     },
     "execution_count": 124,
     "metadata": {},
     "output_type": "execute_result"
    }
   ],
   "source": [
    "train_data['Item_Outlet_Sales'].quantile(.75)"
   ]
  },
  {
   "cell_type": "code",
   "execution_count": 125,
   "id": "485c9d00",
   "metadata": {},
   "outputs": [],
   "source": [
    "outlier_1=['Item_Visibility','Item_Outlet_Sales']"
   ]
  },
  {
   "cell_type": "code",
   "execution_count": 126,
   "id": "ebf50e3b",
   "metadata": {},
   "outputs": [],
   "source": [
    "p0_ = []\n",
    "p100_ = []\n",
    "iqr_ = []\n",
    "high_ = []\n",
    "low_ = []\n",
    "\n",
    "for i in outlier_1:\n",
    "    p0 =train_data[i].min()\n",
    "    p100=train_data[i].max()\n",
    "    \n",
    "    p0_.append(p0)\n",
    "    p100_.append(p100)\n",
    "\n",
    "    q1=train_data[i].quantile(0.25)\n",
    "    q2=train_data[i].quantile(0.5)\n",
    "    q3=train_data[i].quantile(0.75)\n",
    "    \n",
    "    iqr=q3-q1\n",
    "    iqr_.append(iqr)\n",
    "    \n",
    "    low: int = q1 - (1.5 * iqr)\n",
    "    high: int = q3 + (1.5 * iqr)\n",
    "    \n",
    "    low_.append(low)\n",
    "    high_.append(high)\n"
   ]
  },
  {
   "cell_type": "code",
   "execution_count": 127,
   "id": "e7f54f87",
   "metadata": {},
   "outputs": [],
   "source": [
    "count = 0\n",
    "\n",
    "for i in outlier_1:\n",
    "    train_data[i] = train_data[i].clip(upper = high_[count], lower = low_[count])\n",
    "    count+=1"
   ]
  },
  {
   "cell_type": "code",
   "execution_count": 128,
   "id": "a370b3ba",
   "metadata": {},
   "outputs": [
    {
     "name": "stdout",
     "output_type": "stream",
     "text": [
      "Item_Visibility has ===>   0 outliers\n",
      "Item_Outlet_Sales has ===>   0 outliers\n"
     ]
    }
   ],
   "source": [
    "for i in outlier_1:\n",
    "    Q3, Q1 = np.percentile(train_data[i], [75 ,25])\n",
    "    iqr= Q3 - Q1\n",
    "    low = Q1 - (1.5*iqr)\n",
    "    high = Q3 + (1.5*iqr)\n",
    "    x=train_data[i][train_data[i]>high]\n",
    "    y=train_data[i][train_data[i]<low]\n",
    "    print(i,'has ===>  ',x.shape[0]+y.shape[0],'outliers')"
   ]
  },
  {
   "cell_type": "markdown",
   "id": "7cadd59a",
   "metadata": {},
   "source": [
    "So we Have succefully removed ouliers from float datatype columns now we do same for object and int64 columns"
   ]
  },
  {
   "cell_type": "code",
   "execution_count": 129,
   "id": "ed827b9d",
   "metadata": {},
   "outputs": [
    {
     "name": "stdout",
     "output_type": "stream",
     "text": [
      "Outlet_Establishment_Year has ===>   0 outliers\n"
     ]
    }
   ],
   "source": [
    "for i in int_col:\n",
    "    Q3, Q1 = np.percentile(train_data[i], [75 ,25])\n",
    "    iqr= Q3 - Q1\n",
    "    low = Q1 - (1.5*iqr)\n",
    "    high = Q3 + (1.5*iqr)\n",
    "    x=train_data[i][train_data[i]>high]\n",
    "    y=train_data[i][train_data[i]<low]\n",
    "    print(i,'has ===>  ',x.shape[0]+y.shape[0],'outliers')"
   ]
  },
  {
   "cell_type": "code",
   "execution_count": 130,
   "id": "56574f22",
   "metadata": {},
   "outputs": [
    {
     "data": {
      "text/plain": [
       "count    8523.000000\n",
       "mean        0.065307\n",
       "std         0.048841\n",
       "min         0.000000\n",
       "25%         0.026989\n",
       "50%         0.053931\n",
       "75%         0.094585\n",
       "max         0.195979\n",
       "Name: Item_Visibility, dtype: float64"
      ]
     },
     "execution_count": 130,
     "metadata": {},
     "output_type": "execute_result"
    }
   ],
   "source": [
    "train_data['Item_Visibility'].describe()"
   ]
  },
  {
   "cell_type": "markdown",
   "id": "99623563",
   "metadata": {},
   "source": [
    "As we can see  that the Fat_content name are occured as 'LF and Reg' which we need to replace by LF:- Low Fat and Reg:- Regular"
   ]
  },
  {
   "cell_type": "code",
   "execution_count": 131,
   "id": "42f4982f",
   "metadata": {},
   "outputs": [
    {
     "name": "stdout",
     "output_type": "stream",
     "text": [
      "Original Categories:\n",
      "Low Fat    5089\n",
      "Regular    2889\n",
      "LF          316\n",
      "reg         117\n",
      "low fat     112\n",
      "Name: Item_Fat_Content, dtype: int64\n",
      "\n",
      "Modified Categories:\n",
      "Low Fat    5517\n",
      "Regular    3006\n",
      "Name: Item_Fat_Content, dtype: int64\n"
     ]
    }
   ],
   "source": [
    "#Change categories of low fat:\n",
    "print('Original Categories:')\n",
    "print(train_data['Item_Fat_Content'].value_counts())\n",
    "\n",
    "train_data['Item_Fat_Content'] = train_data['Item_Fat_Content'].replace({'LF':'Low Fat',\n",
    "                                                             'reg':'Regular',\n",
    "                                                             'low fat':'Low Fat'})\n",
    "print('\\nModified Categories:')\n",
    "print(train_data['Item_Fat_Content'].value_counts())"
   ]
  },
  {
   "cell_type": "code",
   "execution_count": 132,
   "id": "8b5a4277",
   "metadata": {},
   "outputs": [
    {
     "data": {
      "image/png": "[encoded data removed]",
      "text/plain": [
       "<Figure size 300x400 with 1 Axes>"
      ]
     },
     "metadata": {},
     "output_type": "display_data"
    }
   ],
   "source": [
    "\n",
    "\n",
    "# Count the occurrences of each fat content\n",
    "fat_content_counts = train_data['Item_Fat_Content'].value_counts()\n",
    "\n",
    "# Create a pie chart\n",
    "plt.figure(figsize=(3, 4))  # Set the figure size\n",
    "plt.pie(fat_content_counts, labels=fat_content_counts.index, autopct='%1.1f%%', startangle=140)\n",
    "\n",
    "# Add a title\n",
    "plt.title('Distribution of Items by Fat Content')\n",
    "\n",
    "# Equal aspect ratio ensures that pie is drawn as a circle.\n",
    "plt.axis('equal')\n",
    "\n",
    "# Show the plot\n",
    "plt.show()"
   ]
  },
  {
   "cell_type": "markdown",
   "id": "1b2acf21",
   "metadata": {},
   "source": [
    "Item_by_fatContent is diveide in  t parts Low fat having 64.7% and Regular having 35.3%"
   ]
  },
  {
   "cell_type": "code",
   "execution_count": 133,
   "id": "259ffaee",
   "metadata": {},
   "outputs": [
    {
     "data": {
      "image/png": "[encoded data removed]",
      "text/plain": [
       "<Figure size 1000x300 with 1 Axes>"
      ]
     },
     "metadata": {},
     "output_type": "display_data"
    }
   ],
   "source": [
    "# Create a box plot\n",
    "plt.figure(figsize=(10, 3))\n",
    "sns.barplot(data=train_data, x='Outlet_Size', y='Item_Outlet_Sales')\n",
    "plt.xlabel('Outlet_Size')\n",
    "plt.ylabel('Target Item_Outlet_Sales')\n",
    "plt.title('BarGraph of Oulet_size vs item_Outlet_Sales')\n",
    "plt.show()"
   ]
  },
  {
   "cell_type": "code",
   "execution_count": 134,
   "id": "980a0429",
   "metadata": {},
   "outputs": [
    {
     "data": {
      "text/html": [
       "<div>\n",
       "<style scoped>\n",
       "    .dataframe tbody tr th:only-of-type {\n",
       "        vertical-align: middle;\n",
       "    }\n",
       "\n",
       "    .dataframe tbody tr th {\n",
       "        vertical-align: top;\n",
       "    }\n",
       "\n",
       "    .dataframe thead th {\n",
       "        text-align: right;\n",
       "    }\n",
       "</style>\n",
       "<table border=\"1\" class=\"dataframe\">\n",
       "  <thead>\n",
       "    <tr style=\"text-align: right;\">\n",
       "      <th></th>\n",
       "      <th>Item_Visibility</th>\n",
       "      <th>Item_MRP</th>\n",
       "      <th>Outlet_Establishment_Year</th>\n",
       "      <th>Item_Outlet_Sales</th>\n",
       "    </tr>\n",
       "  </thead>\n",
       "  <tbody>\n",
       "    <tr>\n",
       "      <th>count</th>\n",
       "      <td>8523.000000</td>\n",
       "      <td>8523.000000</td>\n",
       "      <td>8523.000000</td>\n",
       "      <td>8523.000000</td>\n",
       "    </tr>\n",
       "    <tr>\n",
       "      <th>mean</th>\n",
       "      <td>0.065307</td>\n",
       "      <td>140.992782</td>\n",
       "      <td>1997.831867</td>\n",
       "      <td>2156.313016</td>\n",
       "    </tr>\n",
       "    <tr>\n",
       "      <th>std</th>\n",
       "      <td>0.048841</td>\n",
       "      <td>62.275067</td>\n",
       "      <td>8.371760</td>\n",
       "      <td>1624.863069</td>\n",
       "    </tr>\n",
       "    <tr>\n",
       "      <th>min</th>\n",
       "      <td>0.000000</td>\n",
       "      <td>31.290000</td>\n",
       "      <td>1985.000000</td>\n",
       "      <td>33.290000</td>\n",
       "    </tr>\n",
       "    <tr>\n",
       "      <th>25%</th>\n",
       "      <td>0.026989</td>\n",
       "      <td>93.826500</td>\n",
       "      <td>1987.000000</td>\n",
       "      <td>834.247400</td>\n",
       "    </tr>\n",
       "    <tr>\n",
       "      <th>50%</th>\n",
       "      <td>0.053931</td>\n",
       "      <td>143.012800</td>\n",
       "      <td>1999.000000</td>\n",
       "      <td>1794.331000</td>\n",
       "    </tr>\n",
       "    <tr>\n",
       "      <th>75%</th>\n",
       "      <td>0.094585</td>\n",
       "      <td>185.643700</td>\n",
       "      <td>2004.000000</td>\n",
       "      <td>3101.296400</td>\n",
       "    </tr>\n",
       "    <tr>\n",
       "      <th>max</th>\n",
       "      <td>0.195979</td>\n",
       "      <td>266.888400</td>\n",
       "      <td>2009.000000</td>\n",
       "      <td>6501.869900</td>\n",
       "    </tr>\n",
       "  </tbody>\n",
       "</table>\n",
       "</div>"
      ],
      "text/plain": [
       "       Item_Visibility     Item_MRP  Outlet_Establishment_Year  \\\n",
       "count      8523.000000  8523.000000                8523.000000   \n",
       "mean          0.065307   140.992782                1997.831867   \n",
       "std           0.048841    62.275067                   8.371760   \n",
       "min           0.000000    31.290000                1985.000000   \n",
       "25%           0.026989    93.826500                1987.000000   \n",
       "50%           0.053931   143.012800                1999.000000   \n",
       "75%           0.094585   185.643700                2004.000000   \n",
       "max           0.195979   266.888400                2009.000000   \n",
       "\n",
       "       Item_Outlet_Sales  \n",
       "count        8523.000000  \n",
       "mean         2156.313016  \n",
       "std          1624.863069  \n",
       "min            33.290000  \n",
       "25%           834.247400  \n",
       "50%          1794.331000  \n",
       "75%          3101.296400  \n",
       "max          6501.869900  "
      ]
     },
     "execution_count": 134,
     "metadata": {},
     "output_type": "execute_result"
    }
   ],
   "source": [
    "train_data.describe()"
   ]
  },
  {
   "cell_type": "markdown",
   "id": "4c78f30f",
   "metadata": {},
   "source": [
    "As we can see the min value of the Item_visibility is zero which is not possible or\n",
    "due to some error so we need to impute this value by mean value"
   ]
  },
  {
   "cell_type": "code",
   "execution_count": 135,
   "id": "f5381897",
   "metadata": {},
   "outputs": [
    {
     "data": {
      "text/html": [
       "<div>\n",
       "<style scoped>\n",
       "    .dataframe tbody tr th:only-of-type {\n",
       "        vertical-align: middle;\n",
       "    }\n",
       "\n",
       "    .dataframe tbody tr th {\n",
       "        vertical-align: top;\n",
       "    }\n",
       "\n",
       "    .dataframe thead th {\n",
       "        text-align: right;\n",
       "    }\n",
       "</style>\n",
       "<table border=\"1\" class=\"dataframe\">\n",
       "  <thead>\n",
       "    <tr style=\"text-align: right;\">\n",
       "      <th></th>\n",
       "      <th>Item_Visibility</th>\n",
       "      <th>Item_MRP</th>\n",
       "      <th>Outlet_Establishment_Year</th>\n",
       "      <th>Item_Outlet_Sales</th>\n",
       "    </tr>\n",
       "  </thead>\n",
       "  <tbody>\n",
       "    <tr>\n",
       "      <th>count</th>\n",
       "      <td>8523.000000</td>\n",
       "      <td>8523.000000</td>\n",
       "      <td>8523.000000</td>\n",
       "      <td>8523.000000</td>\n",
       "    </tr>\n",
       "    <tr>\n",
       "      <th>mean</th>\n",
       "      <td>0.069603</td>\n",
       "      <td>140.992782</td>\n",
       "      <td>1997.831867</td>\n",
       "      <td>2156.313016</td>\n",
       "    </tr>\n",
       "    <tr>\n",
       "      <th>std</th>\n",
       "      <td>0.045879</td>\n",
       "      <td>62.275067</td>\n",
       "      <td>8.371760</td>\n",
       "      <td>1624.863069</td>\n",
       "    </tr>\n",
       "    <tr>\n",
       "      <th>min</th>\n",
       "      <td>0.003575</td>\n",
       "      <td>31.290000</td>\n",
       "      <td>1985.000000</td>\n",
       "      <td>33.290000</td>\n",
       "    </tr>\n",
       "    <tr>\n",
       "      <th>25%</th>\n",
       "      <td>0.033085</td>\n",
       "      <td>93.826500</td>\n",
       "      <td>1987.000000</td>\n",
       "      <td>834.247400</td>\n",
       "    </tr>\n",
       "    <tr>\n",
       "      <th>50%</th>\n",
       "      <td>0.062517</td>\n",
       "      <td>143.012800</td>\n",
       "      <td>1999.000000</td>\n",
       "      <td>1794.331000</td>\n",
       "    </tr>\n",
       "    <tr>\n",
       "      <th>75%</th>\n",
       "      <td>0.094585</td>\n",
       "      <td>185.643700</td>\n",
       "      <td>2004.000000</td>\n",
       "      <td>3101.296400</td>\n",
       "    </tr>\n",
       "    <tr>\n",
       "      <th>max</th>\n",
       "      <td>0.195979</td>\n",
       "      <td>266.888400</td>\n",
       "      <td>2009.000000</td>\n",
       "      <td>6501.869900</td>\n",
       "    </tr>\n",
       "  </tbody>\n",
       "</table>\n",
       "</div>"
      ],
      "text/plain": [
       "       Item_Visibility     Item_MRP  Outlet_Establishment_Year  \\\n",
       "count      8523.000000  8523.000000                8523.000000   \n",
       "mean          0.069603   140.992782                1997.831867   \n",
       "std           0.045879    62.275067                   8.371760   \n",
       "min           0.003575    31.290000                1985.000000   \n",
       "25%           0.033085    93.826500                1987.000000   \n",
       "50%           0.062517   143.012800                1999.000000   \n",
       "75%           0.094585   185.643700                2004.000000   \n",
       "max           0.195979   266.888400                2009.000000   \n",
       "\n",
       "       Item_Outlet_Sales  \n",
       "count        8523.000000  \n",
       "mean         2156.313016  \n",
       "std          1624.863069  \n",
       "min            33.290000  \n",
       "25%           834.247400  \n",
       "50%          1794.331000  \n",
       "75%          3101.296400  \n",
       "max          6501.869900  "
      ]
     },
     "execution_count": 135,
     "metadata": {},
     "output_type": "execute_result"
    }
   ],
   "source": [
    "# Calculate the mean excluding zero values\n",
    "mean_value = train_data[train_data['Item_Visibility'] != 0]['Item_Visibility'].mean()\n",
    "\n",
    "# Replace zero values with the mean\n",
    "train_data['Item_Visibility'] = train_data['Item_Visibility'].replace(0, mean_value)\n",
    "\n",
    "train_data.describe()"
   ]
  },
  {
   "cell_type": "markdown",
   "id": "9e467354",
   "metadata": {},
   "source": [
    "we will do this also on test data set"
   ]
  },
  {
   "cell_type": "code",
   "execution_count": 136,
   "id": "63cab968",
   "metadata": {},
   "outputs": [
    {
     "data": {
      "text/html": [
       "<div>\n",
       "<style scoped>\n",
       "    .dataframe tbody tr th:only-of-type {\n",
       "        vertical-align: middle;\n",
       "    }\n",
       "\n",
       "    .dataframe tbody tr th {\n",
       "        vertical-align: top;\n",
       "    }\n",
       "\n",
       "    .dataframe thead th {\n",
       "        text-align: right;\n",
       "    }\n",
       "</style>\n",
       "<table border=\"1\" class=\"dataframe\">\n",
       "  <thead>\n",
       "    <tr style=\"text-align: right;\">\n",
       "      <th></th>\n",
       "      <th>Item_Visibility</th>\n",
       "      <th>Item_MRP</th>\n",
       "      <th>Outlet_Establishment_Year</th>\n",
       "    </tr>\n",
       "  </thead>\n",
       "  <tbody>\n",
       "    <tr>\n",
       "      <th>count</th>\n",
       "      <td>5681.000000</td>\n",
       "      <td>5681.000000</td>\n",
       "      <td>5681.000000</td>\n",
       "    </tr>\n",
       "    <tr>\n",
       "      <th>mean</th>\n",
       "      <td>0.070036</td>\n",
       "      <td>141.023273</td>\n",
       "      <td>1997.828903</td>\n",
       "    </tr>\n",
       "    <tr>\n",
       "      <th>std</th>\n",
       "      <td>0.048383</td>\n",
       "      <td>61.809091</td>\n",
       "      <td>8.372256</td>\n",
       "    </tr>\n",
       "    <tr>\n",
       "      <th>min</th>\n",
       "      <td>0.003591</td>\n",
       "      <td>31.990000</td>\n",
       "      <td>1985.000000</td>\n",
       "    </tr>\n",
       "    <tr>\n",
       "      <th>25%</th>\n",
       "      <td>0.033208</td>\n",
       "      <td>94.412000</td>\n",
       "      <td>1987.000000</td>\n",
       "    </tr>\n",
       "    <tr>\n",
       "      <th>50%</th>\n",
       "      <td>0.062137</td>\n",
       "      <td>141.415400</td>\n",
       "      <td>1999.000000</td>\n",
       "    </tr>\n",
       "    <tr>\n",
       "      <th>75%</th>\n",
       "      <td>0.093463</td>\n",
       "      <td>186.026600</td>\n",
       "      <td>2004.000000</td>\n",
       "    </tr>\n",
       "    <tr>\n",
       "      <th>max</th>\n",
       "      <td>0.323637</td>\n",
       "      <td>266.588400</td>\n",
       "      <td>2009.000000</td>\n",
       "    </tr>\n",
       "  </tbody>\n",
       "</table>\n",
       "</div>"
      ],
      "text/plain": [
       "       Item_Visibility     Item_MRP  Outlet_Establishment_Year\n",
       "count      5681.000000  5681.000000                5681.000000\n",
       "mean          0.070036   141.023273                1997.828903\n",
       "std           0.048383    61.809091                   8.372256\n",
       "min           0.003591    31.990000                1985.000000\n",
       "25%           0.033208    94.412000                1987.000000\n",
       "50%           0.062137   141.415400                1999.000000\n",
       "75%           0.093463   186.026600                2004.000000\n",
       "max           0.323637   266.588400                2009.000000"
      ]
     },
     "execution_count": 136,
     "metadata": {},
     "output_type": "execute_result"
    }
   ],
   "source": [
    "# Calculate the mean excluding zero values\n",
    "mean_value = test_data[test_data['Item_Visibility'] != 0]['Item_Visibility'].mean()\n",
    "\n",
    "# Replace zero values with the mean\n",
    "test_data['Item_Visibility'] = test_data['Item_Visibility'].replace(0, mean_value)\n",
    "\n",
    "test_data.describe()"
   ]
  },
  {
   "cell_type": "code",
   "execution_count": 281,
   "id": "473c049f",
   "metadata": {},
   "outputs": [
    {
     "data": {
      "image/png": "[encoded data removed]",
      "text/plain": [
       "<Figure size 1000x600 with 1 Axes>"
      ]
     },
     "metadata": {},
     "output_type": "display_data"
    }
   ],
   "source": [
    "# Group data by 'Item_Type' and calculate the mean of 'Item_Outlet_Sales'\n",
    "item_type_sales_mean = train_data.groupby('Item_Type')['Item_Outlet_Sales'].mean()\n",
    "\n",
    "# Create a bar plot\n",
    "plt.figure(figsize=(10, 6))\n",
    "item_type_sales_mean.plot(kind='bar', color='green')\n",
    "plt.xlabel('Item_Type')\n",
    "plt.ylabel('Mean Item Outlet Sales')\n",
    "plt.title('Mean Item Outlet Sales by Item_Type')\n",
    "plt.xticks(rotation=45)  # Rotate x-axis labels for better visibility\n",
    "\n",
    "# Show the plot\n",
    "plt.tight_layout()\n",
    "plt.show()"
   ]
  },
  {
   "cell_type": "code",
   "execution_count": 137,
   "id": "4af01717",
   "metadata": {},
   "outputs": [
    {
     "data": {
      "image/png": "[encoded data removed]",
      "text/plain": [
       "<Figure size 1000x600 with 1 Axes>"
      ]
     },
     "metadata": {},
     "output_type": "display_data"
    }
   ],
   "source": [
    "# Create a scatter plot\n",
    "plt.figure(figsize=(10, 6))\n",
    "plt.scatter(train_data['Item_Type'], train_data['Item_Outlet_Sales'], color='blue')\n",
    "plt.xlabel(' Item_Type')\n",
    "plt.ylabel('Item Outlet Sales')\n",
    "plt.title('Scatter Plot of Item Outlet Sales vs Item_Type')\n",
    "plt.xticks(rotation=45)  # Rotate x-axis labels for better visibility\n",
    "\n",
    "# Show the plot\n",
    "plt.tight_layout()\n",
    "plt.show()"
   ]
  },
  {
   "cell_type": "markdown",
   "id": "054c64ce",
   "metadata": {},
   "source": [
    "Among all the Item_Type 'Fruits and Vegetables' and 'Household' items are being most sold"
   ]
  },
  {
   "cell_type": "code",
   "execution_count": 138,
   "id": "5a70cfda",
   "metadata": {},
   "outputs": [
    {
     "name": "stdout",
     "output_type": "stream",
     "text": [
      "Categorical columns: ['Item_Identifier', 'Item_Fat_Content', 'Item_Type', 'Outlet_Identifier', 'Outlet_Size', 'Outlet_Location_Type', 'Outlet_Type']\n"
     ]
    }
   ],
   "source": [
    "categorical_columns = train_data.select_dtypes(include=['object', 'category']).columns.tolist()\n",
    "\n",
    "print(\"Categorical columns:\", categorical_columns)"
   ]
  },
  {
   "cell_type": "markdown",
   "id": "c69d27da",
   "metadata": {},
   "source": [
    "# Label Encoding for categorical variables on train data and then test data as well"
   ]
  },
  {
   "cell_type": "code",
   "execution_count": 139,
   "id": "81a1f1a1",
   "metadata": {},
   "outputs": [],
   "source": [
    "from sklearn.preprocessing import LabelEncoder\n",
    "# Initialize LabelEncoder\n",
    "label_encoder = LabelEncoder()\n",
    "\n",
    "# Encode categorical variables\n",
    "for column in train_data.select_dtypes(include=['object', 'category']).columns:\n",
    "    train_data[column] = label_encoder.fit_transform(train_data[column])\n"
   ]
  },
  {
   "cell_type": "code",
   "execution_count": 140,
   "id": "a68f5e43",
   "metadata": {},
   "outputs": [],
   "source": [
    "from sklearn.preprocessing import LabelEncoder\n",
    "# Initialize LabelEncoder\n",
    "label_encoder = LabelEncoder()\n",
    "\n",
    "# Encode categorical variables\n",
    "for column in test_data.select_dtypes(include=['object', 'category']).columns:\n",
    "    test_data[column] = label_encoder.fit_transform(test_data[column])\n"
   ]
  },
  {
   "cell_type": "code",
   "execution_count": 141,
   "id": "5dc4aa41",
   "metadata": {},
   "outputs": [
    {
     "data": {
      "text/html": [
       "<div>\n",
       "<style scoped>\n",
       "    .dataframe tbody tr th:only-of-type {\n",
       "        vertical-align: middle;\n",
       "    }\n",
       "\n",
       "    .dataframe tbody tr th {\n",
       "        vertical-align: top;\n",
       "    }\n",
       "\n",
       "    .dataframe thead th {\n",
       "        text-align: right;\n",
       "    }\n",
       "</style>\n",
       "<table border=\"1\" class=\"dataframe\">\n",
       "  <thead>\n",
       "    <tr style=\"text-align: right;\">\n",
       "      <th></th>\n",
       "      <th>Item_Identifier</th>\n",
       "      <th>Item_Fat_Content</th>\n",
       "      <th>Item_Visibility</th>\n",
       "      <th>Item_Type</th>\n",
       "      <th>Item_MRP</th>\n",
       "      <th>Outlet_Identifier</th>\n",
       "      <th>Outlet_Establishment_Year</th>\n",
       "      <th>Outlet_Size</th>\n",
       "      <th>Outlet_Location_Type</th>\n",
       "      <th>Outlet_Type</th>\n",
       "      <th>Item_Outlet_Sales</th>\n",
       "    </tr>\n",
       "  </thead>\n",
       "  <tbody>\n",
       "    <tr>\n",
       "      <th>0</th>\n",
       "      <td>156</td>\n",
       "      <td>0</td>\n",
       "      <td>0.016047</td>\n",
       "      <td>4</td>\n",
       "      <td>249.8092</td>\n",
       "      <td>9</td>\n",
       "      <td>1999</td>\n",
       "      <td>1</td>\n",
       "      <td>0</td>\n",
       "      <td>1</td>\n",
       "      <td>3735.1380</td>\n",
       "    </tr>\n",
       "    <tr>\n",
       "      <th>1</th>\n",
       "      <td>8</td>\n",
       "      <td>1</td>\n",
       "      <td>0.019278</td>\n",
       "      <td>14</td>\n",
       "      <td>48.2692</td>\n",
       "      <td>3</td>\n",
       "      <td>2009</td>\n",
       "      <td>1</td>\n",
       "      <td>2</td>\n",
       "      <td>2</td>\n",
       "      <td>443.4228</td>\n",
       "    </tr>\n",
       "    <tr>\n",
       "      <th>2</th>\n",
       "      <td>662</td>\n",
       "      <td>0</td>\n",
       "      <td>0.016760</td>\n",
       "      <td>10</td>\n",
       "      <td>141.6180</td>\n",
       "      <td>9</td>\n",
       "      <td>1999</td>\n",
       "      <td>1</td>\n",
       "      <td>0</td>\n",
       "      <td>1</td>\n",
       "      <td>2097.2700</td>\n",
       "    </tr>\n",
       "    <tr>\n",
       "      <th>3</th>\n",
       "      <td>1121</td>\n",
       "      <td>1</td>\n",
       "      <td>0.069603</td>\n",
       "      <td>6</td>\n",
       "      <td>182.0950</td>\n",
       "      <td>0</td>\n",
       "      <td>1998</td>\n",
       "      <td>2</td>\n",
       "      <td>2</td>\n",
       "      <td>0</td>\n",
       "      <td>732.3800</td>\n",
       "    </tr>\n",
       "    <tr>\n",
       "      <th>4</th>\n",
       "      <td>1297</td>\n",
       "      <td>0</td>\n",
       "      <td>0.069603</td>\n",
       "      <td>9</td>\n",
       "      <td>53.8614</td>\n",
       "      <td>1</td>\n",
       "      <td>1987</td>\n",
       "      <td>0</td>\n",
       "      <td>2</td>\n",
       "      <td>1</td>\n",
       "      <td>994.7052</td>\n",
       "    </tr>\n",
       "  </tbody>\n",
       "</table>\n",
       "</div>"
      ],
      "text/plain": [
       "   Item_Identifier  Item_Fat_Content  Item_Visibility  Item_Type  Item_MRP  \\\n",
       "0              156                 0         0.016047          4  249.8092   \n",
       "1                8                 1         0.019278         14   48.2692   \n",
       "2              662                 0         0.016760         10  141.6180   \n",
       "3             1121                 1         0.069603          6  182.0950   \n",
       "4             1297                 0         0.069603          9   53.8614   \n",
       "\n",
       "   Outlet_Identifier  Outlet_Establishment_Year  Outlet_Size  \\\n",
       "0                  9                       1999            1   \n",
       "1                  3                       2009            1   \n",
       "2                  9                       1999            1   \n",
       "3                  0                       1998            2   \n",
       "4                  1                       1987            0   \n",
       "\n",
       "   Outlet_Location_Type  Outlet_Type  Item_Outlet_Sales  \n",
       "0                     0            1          3735.1380  \n",
       "1                     2            2           443.4228  \n",
       "2                     0            1          2097.2700  \n",
       "3                     2            0           732.3800  \n",
       "4                     2            1           994.7052  "
      ]
     },
     "execution_count": 141,
     "metadata": {},
     "output_type": "execute_result"
    }
   ],
   "source": [
    "train_data.head()"
   ]
  },
  {
   "cell_type": "code",
   "execution_count": 142,
   "id": "b3aa6185",
   "metadata": {},
   "outputs": [
    {
     "data": {
      "text/html": [
       "<div>\n",
       "<style scoped>\n",
       "    .dataframe tbody tr th:only-of-type {\n",
       "        vertical-align: middle;\n",
       "    }\n",
       "\n",
       "    .dataframe tbody tr th {\n",
       "        vertical-align: top;\n",
       "    }\n",
       "\n",
       "    .dataframe thead th {\n",
       "        text-align: right;\n",
       "    }\n",
       "</style>\n",
       "<table border=\"1\" class=\"dataframe\">\n",
       "  <thead>\n",
       "    <tr style=\"text-align: right;\">\n",
       "      <th></th>\n",
       "      <th>Item_Identifier</th>\n",
       "      <th>Item_Fat_Content</th>\n",
       "      <th>Item_Visibility</th>\n",
       "      <th>Item_Type</th>\n",
       "      <th>Item_MRP</th>\n",
       "      <th>Outlet_Identifier</th>\n",
       "      <th>Outlet_Establishment_Year</th>\n",
       "      <th>Outlet_Size</th>\n",
       "      <th>Outlet_Location_Type</th>\n",
       "      <th>Outlet_Type</th>\n",
       "    </tr>\n",
       "  </thead>\n",
       "  <tbody>\n",
       "    <tr>\n",
       "      <th>0</th>\n",
       "      <td>1103</td>\n",
       "      <td>1</td>\n",
       "      <td>0.007565</td>\n",
       "      <td>13</td>\n",
       "      <td>107.8622</td>\n",
       "      <td>9</td>\n",
       "      <td>1999</td>\n",
       "      <td>1</td>\n",
       "      <td>0</td>\n",
       "      <td>1</td>\n",
       "    </tr>\n",
       "    <tr>\n",
       "      <th>1</th>\n",
       "      <td>1067</td>\n",
       "      <td>4</td>\n",
       "      <td>0.038428</td>\n",
       "      <td>4</td>\n",
       "      <td>87.3198</td>\n",
       "      <td>2</td>\n",
       "      <td>2007</td>\n",
       "      <td>2</td>\n",
       "      <td>1</td>\n",
       "      <td>1</td>\n",
       "    </tr>\n",
       "    <tr>\n",
       "      <th>2</th>\n",
       "      <td>1406</td>\n",
       "      <td>1</td>\n",
       "      <td>0.099575</td>\n",
       "      <td>11</td>\n",
       "      <td>241.7538</td>\n",
       "      <td>0</td>\n",
       "      <td>1998</td>\n",
       "      <td>2</td>\n",
       "      <td>2</td>\n",
       "      <td>0</td>\n",
       "    </tr>\n",
       "    <tr>\n",
       "      <th>3</th>\n",
       "      <td>809</td>\n",
       "      <td>1</td>\n",
       "      <td>0.015388</td>\n",
       "      <td>13</td>\n",
       "      <td>155.0340</td>\n",
       "      <td>2</td>\n",
       "      <td>2007</td>\n",
       "      <td>2</td>\n",
       "      <td>1</td>\n",
       "      <td>1</td>\n",
       "    </tr>\n",
       "    <tr>\n",
       "      <th>4</th>\n",
       "      <td>1184</td>\n",
       "      <td>2</td>\n",
       "      <td>0.118599</td>\n",
       "      <td>4</td>\n",
       "      <td>234.2300</td>\n",
       "      <td>5</td>\n",
       "      <td>1985</td>\n",
       "      <td>1</td>\n",
       "      <td>2</td>\n",
       "      <td>3</td>\n",
       "    </tr>\n",
       "  </tbody>\n",
       "</table>\n",
       "</div>"
      ],
      "text/plain": [
       "   Item_Identifier  Item_Fat_Content  Item_Visibility  Item_Type  Item_MRP  \\\n",
       "0             1103                 1         0.007565         13  107.8622   \n",
       "1             1067                 4         0.038428          4   87.3198   \n",
       "2             1406                 1         0.099575         11  241.7538   \n",
       "3              809                 1         0.015388         13  155.0340   \n",
       "4             1184                 2         0.118599          4  234.2300   \n",
       "\n",
       "   Outlet_Identifier  Outlet_Establishment_Year  Outlet_Size  \\\n",
       "0                  9                       1999            1   \n",
       "1                  2                       2007            2   \n",
       "2                  0                       1998            2   \n",
       "3                  2                       2007            2   \n",
       "4                  5                       1985            1   \n",
       "\n",
       "   Outlet_Location_Type  Outlet_Type  \n",
       "0                     0            1  \n",
       "1                     1            1  \n",
       "2                     2            0  \n",
       "3                     1            1  \n",
       "4                     2            3  "
      ]
     },
     "execution_count": 142,
     "metadata": {},
     "output_type": "execute_result"
    }
   ],
   "source": [
    "test_data.head()"
   ]
  },
  {
   "cell_type": "code",
   "execution_count": 143,
   "id": "3d91306a",
   "metadata": {},
   "outputs": [
    {
     "data": {
      "image/png": "[encoded data removed]",
      "text/plain": [
       "<Figure size 1000x400 with 2 Axes>"
      ]
     },
     "metadata": {},
     "output_type": "display_data"
    }
   ],
   "source": [
    "# Calculate the correlation matrix\n",
    "correlation_matrix = train_data.corr()\n",
    "\n",
    "# Create a heatmap using seaborn\n",
    "plt.figure(figsize=(10, 4))\n",
    "sns.heatmap(correlation_matrix, annot=True, cmap='coolwarm', center=0)\n",
    "plt.title('Correlation Heatmap')\n",
    "plt.show()"
   ]
  },
  {
   "cell_type": "code",
   "execution_count": 144,
   "id": "5cbb4409",
   "metadata": {
    "scrolled": true
   },
   "outputs": [
    {
     "name": "stdout",
     "output_type": "stream",
     "text": [
      "Item_MRP                     0.574554\n",
      "Outlet_Type                  0.399640\n",
      "Outlet_Identifier            0.169321\n",
      "Outlet_Location_Type         0.083727\n",
      "Item_Fat_Content             0.019675\n",
      "Item_Type                    0.017388\n",
      "Outlet_Establishment_Year   -0.037133\n",
      "Item_Visibility             -0.125984\n",
      "Outlet_Size                 -0.164868\n",
      "Name: Item_Outlet_Sales, dtype: float64\n"
     ]
    }
   ],
   "source": [
    "numerical_corr = train_data.iloc[:, 1:].select_dtypes(exclude=['object']).corr()\n",
    "print (numerical_corr['Item_Outlet_Sales'].sort_values(axis=0,ascending=False).iloc[1:11])"
   ]
  },
  {
   "cell_type": "markdown",
   "id": "d43cb57f",
   "metadata": {},
   "source": [
    "# Split the data into all the independent variables as x and dependent variable as y\n"
   ]
  },
  {
   "cell_type": "code",
   "execution_count": 198,
   "id": "20b5be44",
   "metadata": {},
   "outputs": [],
   "source": [
    "x_train = train_data[['Item_MRP','Outlet_Type','Outlet_Identifier','Item_Visibility','Outlet_Size']].values\n",
    "y_train = train_data.iloc[ : , -1].values"
   ]
  },
  {
   "cell_type": "code",
   "execution_count": 199,
   "id": "d3dc4c48",
   "metadata": {},
   "outputs": [
    {
     "name": "stdout",
     "output_type": "stream",
     "text": [
      "[[2.50e+02 1.00e+00 9.00e+00 1.60e-02 1.00e+00]\n",
      " [4.83e+01 2.00e+00 3.00e+00 1.93e-02 1.00e+00]\n",
      " [1.42e+02 1.00e+00 9.00e+00 1.68e-02 1.00e+00]\n",
      " ...\n",
      " [8.51e+01 1.00e+00 6.00e+00 3.52e-02 2.00e+00]\n",
      " [1.03e+02 2.00e+00 3.00e+00 1.45e-01 1.00e+00]\n",
      " [7.55e+01 1.00e+00 8.00e+00 4.49e-02 2.00e+00]]\n"
     ]
    }
   ],
   "source": [
    "print(x_train)"
   ]
  },
  {
   "cell_type": "code",
   "execution_count": 200,
   "id": "d9133efe",
   "metadata": {},
   "outputs": [
    {
     "name": "stdout",
     "output_type": "stream",
     "text": [
      "[3735.14  443.42 2097.27 ... 1193.11 1845.6   765.67]\n"
     ]
    }
   ],
   "source": [
    "print(y_train)"
   ]
  },
  {
   "cell_type": "markdown",
   "id": "537ee7b7",
   "metadata": {},
   "source": [
    "# Split the training dataset again for prediction and model evaluation"
   ]
  },
  {
   "cell_type": "code",
   "execution_count": 230,
   "id": "95237b88",
   "metadata": {},
   "outputs": [],
   "source": [
    "from sklearn.model_selection import train_test_split, GridSearchCV\n",
    "x1_train, x1_test, y1_train, y1_test = train_test_split (x_train, y_train, test_size=0.2, random_state=1)"
   ]
  },
  {
   "cell_type": "markdown",
   "id": "057584a0",
   "metadata": {},
   "source": [
    "# Now we perform some regression models "
   ]
  },
  {
   "cell_type": "markdown",
   "id": "bce726fd",
   "metadata": {},
   "source": [
    "# Multiple Linear Regression Model"
   ]
  },
  {
   "cell_type": "code",
   "execution_count": 256,
   "id": "45f7e468",
   "metadata": {},
   "outputs": [
    {
     "data": {
      "text/html": [
       "<style>#sk-container-id-18 {color: black;background-color: white;}#sk-container-id-18 pre{padding: 0;}#sk-container-id-18 div.sk-toggleable {background-color: white;}#sk-container-id-18 label.sk-toggleable__label {cursor: pointer;display: block;width: 100%;margin-bottom: 0;padding: 0.3em;box-sizing: border-box;text-align: center;}#sk-container-id-18 label.sk-toggleable__label-arrow:before {content: \"▸\";float: left;margin-right: 0.25em;color: #696969;}#sk-container-id-18 label.sk-toggleable__label-arrow:hover:before {color: black;}#sk-container-id-18 div.sk-estimator:hover label.sk-toggleable__label-arrow:before {color: black;}#sk-container-id-18 div.sk-toggleable__content {max-height: 0;max-width: 0;overflow: hidden;text-align: left;background-color: #f0f8ff;}#sk-container-id-18 div.sk-toggleable__content pre {margin: 0.2em;color: black;border-radius: 0.25em;background-color: #f0f8ff;}#sk-container-id-18 input.sk-toggleable__control:checked~div.sk-toggleable__content {max-height: 200px;max-width: 100%;overflow: auto;}#sk-container-id-18 input.sk-toggleable__control:checked~label.sk-toggleable__label-arrow:before {content: \"▾\";}#sk-container-id-18 div.sk-estimator input.sk-toggleable__control:checked~label.sk-toggleable__label {background-color: #d4ebff;}#sk-container-id-18 div.sk-label input.sk-toggleable__control:checked~label.sk-toggleable__label {background-color: #d4ebff;}#sk-container-id-18 input.sk-hidden--visually {border: 0;clip: rect(1px 1px 1px 1px);clip: rect(1px, 1px, 1px, 1px);height: 1px;margin: -1px;overflow: hidden;padding: 0;position: absolute;width: 1px;}#sk-container-id-18 div.sk-estimator {font-family: monospace;background-color: #f0f8ff;border: 1px dotted black;border-radius: 0.25em;box-sizing: border-box;margin-bottom: 0.5em;}#sk-container-id-18 div.sk-estimator:hover {background-color: #d4ebff;}#sk-container-id-18 div.sk-parallel-item::after {content: \"\";width: 100%;border-bottom: 1px solid gray;flex-grow: 1;}#sk-container-id-18 div.sk-label:hover label.sk-toggleable__label {background-color: #d4ebff;}#sk-container-id-18 div.sk-serial::before {content: \"\";position: absolute;border-left: 1px solid gray;box-sizing: border-box;top: 0;bottom: 0;left: 50%;z-index: 0;}#sk-container-id-18 div.sk-serial {display: flex;flex-direction: column;align-items: center;background-color: white;padding-right: 0.2em;padding-left: 0.2em;position: relative;}#sk-container-id-18 div.sk-item {position: relative;z-index: 1;}#sk-container-id-18 div.sk-parallel {display: flex;align-items: stretch;justify-content: center;background-color: white;position: relative;}#sk-container-id-18 div.sk-item::before, #sk-container-id-18 div.sk-parallel-item::before {content: \"\";position: absolute;border-left: 1px solid gray;box-sizing: border-box;top: 0;bottom: 0;left: 50%;z-index: -1;}#sk-container-id-18 div.sk-parallel-item {display: flex;flex-direction: column;z-index: 1;position: relative;background-color: white;}#sk-container-id-18 div.sk-parallel-item:first-child::after {align-self: flex-end;width: 50%;}#sk-container-id-18 div.sk-parallel-item:last-child::after {align-self: flex-start;width: 50%;}#sk-container-id-18 div.sk-parallel-item:only-child::after {width: 0;}#sk-container-id-18 div.sk-dashed-wrapped {border: 1px dashed gray;margin: 0 0.4em 0.5em 0.4em;box-sizing: border-box;padding-bottom: 0.4em;background-color: white;}#sk-container-id-18 div.sk-label label {font-family: monospace;font-weight: bold;display: inline-block;line-height: 1.2em;}#sk-container-id-18 div.sk-label-container {text-align: center;}#sk-container-id-18 div.sk-container {/* jupyter's `normalize.less` sets `[hidden] { display: none; }` but bootstrap.min.css set `[hidden] { display: none !important; }` so we also need the `!important` here to be able to override the default hidden behavior on the sphinx rendered scikit-learn.org. See: https://github.com/scikit-learn/scikit-learn/issues/21755 */display: inline-block !important;position: relative;}#sk-container-id-18 div.sk-text-repr-fallback {display: none;}</style><div id=\"sk-container-id-18\" class=\"sk-top-container\"><div class=\"sk-text-repr-fallback\"><pre>LinearRegression()</pre><b>In a Jupyter environment, please rerun this cell to show the HTML representation or trust the notebook. <br />On GitHub, the HTML representation is unable to render, please try loading this page with nbviewer.org.</b></div><div class=\"sk-container\" hidden><div class=\"sk-item\"><div class=\"sk-estimator sk-toggleable\"><input class=\"sk-toggleable__control sk-hidden--visually\" id=\"sk-estimator-id-22\" type=\"checkbox\" checked><label for=\"sk-estimator-id-22\" class=\"sk-toggleable__label sk-toggleable__label-arrow\">LinearRegression</label><div class=\"sk-toggleable__content\"><pre>LinearRegression()</pre></div></div></div></div></div>"
      ],
      "text/plain": [
       "LinearRegression()"
      ]
     },
     "execution_count": 256,
     "metadata": {},
     "output_type": "execute_result"
    }
   ],
   "source": [
    "from sklearn.linear_model import LinearRegression\n",
    "regressor = LinearRegression()\n",
    "regressor.fit(x1_train, y1_train)"
   ]
  },
  {
   "cell_type": "markdown",
   "id": "43509e30",
   "metadata": {},
   "source": [
    "Predicting the test Results"
   ]
  },
  {
   "cell_type": "code",
   "execution_count": 203,
   "id": "9e918575",
   "metadata": {},
   "outputs": [
    {
     "name": "stdout",
     "output_type": "stream",
     "text": [
      "[ 571.32 1859.2  3034.44 ... 2362.02 2187.98 2038.18]\n"
     ]
    }
   ],
   "source": [
    "# Make predictions on the test set\n",
    "y1_pred = regressor.predict(x1_test)\n",
    "np.set_printoptions(precision=2)\n",
    "print(y1_pred)"
   ]
  },
  {
   "cell_type": "markdown",
   "id": "3e044c72",
   "metadata": {},
   "source": [
    "# Polynomial Regression"
   ]
  },
  {
   "cell_type": "code",
   "execution_count": 204,
   "id": "8579b3fa",
   "metadata": {},
   "outputs": [],
   "source": [
    "# Transform the features into polynomial features\n",
    "from sklearn.preprocessing import PolynomialFeatures\n",
    "degree = 3  # Change this to the degree of polynomial you want\n",
    "poly = PolynomialFeatures(degree=degree)\n",
    "x1_train_poly = poly.fit_transform(x1_train)\n",
    "x1_test_poly = poly.transform(x1_test)\n",
    "\n",
    "# Fit a linear regression model to the polynomial features\n",
    "model = LinearRegression()\n",
    "model.fit(x1_train_poly, y1_train)\n",
    "\n",
    "# Make predictions on the test set\n",
    "y1_pred_poly = model.predict(x1_test_poly)"
   ]
  },
  {
   "cell_type": "code",
   "execution_count": 205,
   "id": "4740cac4",
   "metadata": {},
   "outputs": [
    {
     "name": "stdout",
     "output_type": "stream",
     "text": [
      "[ 535.39 1213.48 3125.46 ... 2760.21 1497.73 2461.61]\n"
     ]
    }
   ],
   "source": [
    "print(y1_pred_poly)"
   ]
  },
  {
   "cell_type": "markdown",
   "id": "63744183",
   "metadata": {},
   "source": [
    "# Decision Tree"
   ]
  },
  {
   "cell_type": "code",
   "execution_count": 206,
   "id": "b2213fd0",
   "metadata": {},
   "outputs": [
    {
     "data": {
      "text/html": [
       "<style>#sk-container-id-14 {color: black;background-color: white;}#sk-container-id-14 pre{padding: 0;}#sk-container-id-14 div.sk-toggleable {background-color: white;}#sk-container-id-14 label.sk-toggleable__label {cursor: pointer;display: block;width: 100%;margin-bottom: 0;padding: 0.3em;box-sizing: border-box;text-align: center;}#sk-container-id-14 label.sk-toggleable__label-arrow:before {content: \"▸\";float: left;margin-right: 0.25em;color: #696969;}#sk-container-id-14 label.sk-toggleable__label-arrow:hover:before {color: black;}#sk-container-id-14 div.sk-estimator:hover label.sk-toggleable__label-arrow:before {color: black;}#sk-container-id-14 div.sk-toggleable__content {max-height: 0;max-width: 0;overflow: hidden;text-align: left;background-color: #f0f8ff;}#sk-container-id-14 div.sk-toggleable__content pre {margin: 0.2em;color: black;border-radius: 0.25em;background-color: #f0f8ff;}#sk-container-id-14 input.sk-toggleable__control:checked~div.sk-toggleable__content {max-height: 200px;max-width: 100%;overflow: auto;}#sk-container-id-14 input.sk-toggleable__control:checked~label.sk-toggleable__label-arrow:before {content: \"▾\";}#sk-container-id-14 div.sk-estimator input.sk-toggleable__control:checked~label.sk-toggleable__label {background-color: #d4ebff;}#sk-container-id-14 div.sk-label input.sk-toggleable__control:checked~label.sk-toggleable__label {background-color: #d4ebff;}#sk-container-id-14 input.sk-hidden--visually {border: 0;clip: rect(1px 1px 1px 1px);clip: rect(1px, 1px, 1px, 1px);height: 1px;margin: -1px;overflow: hidden;padding: 0;position: absolute;width: 1px;}#sk-container-id-14 div.sk-estimator {font-family: monospace;background-color: #f0f8ff;border: 1px dotted black;border-radius: 0.25em;box-sizing: border-box;margin-bottom: 0.5em;}#sk-container-id-14 div.sk-estimator:hover {background-color: #d4ebff;}#sk-container-id-14 div.sk-parallel-item::after {content: \"\";width: 100%;border-bottom: 1px solid gray;flex-grow: 1;}#sk-container-id-14 div.sk-label:hover label.sk-toggleable__label {background-color: #d4ebff;}#sk-container-id-14 div.sk-serial::before {content: \"\";position: absolute;border-left: 1px solid gray;box-sizing: border-box;top: 0;bottom: 0;left: 50%;z-index: 0;}#sk-container-id-14 div.sk-serial {display: flex;flex-direction: column;align-items: center;background-color: white;padding-right: 0.2em;padding-left: 0.2em;position: relative;}#sk-container-id-14 div.sk-item {position: relative;z-index: 1;}#sk-container-id-14 div.sk-parallel {display: flex;align-items: stretch;justify-content: center;background-color: white;position: relative;}#sk-container-id-14 div.sk-item::before, #sk-container-id-14 div.sk-parallel-item::before {content: \"\";position: absolute;border-left: 1px solid gray;box-sizing: border-box;top: 0;bottom: 0;left: 50%;z-index: -1;}#sk-container-id-14 div.sk-parallel-item {display: flex;flex-direction: column;z-index: 1;position: relative;background-color: white;}#sk-container-id-14 div.sk-parallel-item:first-child::after {align-self: flex-end;width: 50%;}#sk-container-id-14 div.sk-parallel-item:last-child::after {align-self: flex-start;width: 50%;}#sk-container-id-14 div.sk-parallel-item:only-child::after {width: 0;}#sk-container-id-14 div.sk-dashed-wrapped {border: 1px dashed gray;margin: 0 0.4em 0.5em 0.4em;box-sizing: border-box;padding-bottom: 0.4em;background-color: white;}#sk-container-id-14 div.sk-label label {font-family: monospace;font-weight: bold;display: inline-block;line-height: 1.2em;}#sk-container-id-14 div.sk-label-container {text-align: center;}#sk-container-id-14 div.sk-container {/* jupyter's `normalize.less` sets `[hidden] { display: none; }` but bootstrap.min.css set `[hidden] { display: none !important; }` so we also need the `!important` here to be able to override the default hidden behavior on the sphinx rendered scikit-learn.org. See: https://github.com/scikit-learn/scikit-learn/issues/21755 */display: inline-block !important;position: relative;}#sk-container-id-14 div.sk-text-repr-fallback {display: none;}</style><div id=\"sk-container-id-14\" class=\"sk-top-container\"><div class=\"sk-text-repr-fallback\"><pre>DecisionTreeRegressor()</pre><b>In a Jupyter environment, please rerun this cell to show the HTML representation or trust the notebook. <br />On GitHub, the HTML representation is unable to render, please try loading this page with nbviewer.org.</b></div><div class=\"sk-container\" hidden><div class=\"sk-item\"><div class=\"sk-estimator sk-toggleable\"><input class=\"sk-toggleable__control sk-hidden--visually\" id=\"sk-estimator-id-14\" type=\"checkbox\" checked><label for=\"sk-estimator-id-14\" class=\"sk-toggleable__label sk-toggleable__label-arrow\">DecisionTreeRegressor</label><div class=\"sk-toggleable__content\"><pre>DecisionTreeRegressor()</pre></div></div></div></div></div>"
      ],
      "text/plain": [
       "DecisionTreeRegressor()"
      ]
     },
     "execution_count": 206,
     "metadata": {},
     "output_type": "execute_result"
    }
   ],
   "source": [
    "from sklearn.tree import DecisionTreeRegressor\n",
    "regressor_d = DecisionTreeRegressor()\n",
    "regressor_d.fit(x1_train ,y1_train)\n"
   ]
  },
  {
   "cell_type": "code",
   "execution_count": 207,
   "id": "548e6588",
   "metadata": {},
   "outputs": [
    {
     "name": "stdout",
     "output_type": "stream",
     "text": [
      "[ 493.36 1406.17 3870.96 ... 2137.88  717.73  288.96]\n"
     ]
    }
   ],
   "source": [
    "y1_pred_decision = regressor_d.predict(x1_test)\n",
    "np.set_printoptions(precision=2)\n",
    "print(y1_pred_decision)"
   ]
  },
  {
   "cell_type": "markdown",
   "id": "6f7dff33",
   "metadata": {},
   "source": [
    "# Random Forest (hyperparameter tunning)"
   ]
  },
  {
   "cell_type": "code",
   "execution_count": 243,
   "id": "f25d5800",
   "metadata": {},
   "outputs": [
    {
     "data": {
      "text/html": [
       "<style>#sk-container-id-17 {color: black;background-color: white;}#sk-container-id-17 pre{padding: 0;}#sk-container-id-17 div.sk-toggleable {background-color: white;}#sk-container-id-17 label.sk-toggleable__label {cursor: pointer;display: block;width: 100%;margin-bottom: 0;padding: 0.3em;box-sizing: border-box;text-align: center;}#sk-container-id-17 label.sk-toggleable__label-arrow:before {content: \"▸\";float: left;margin-right: 0.25em;color: #696969;}#sk-container-id-17 label.sk-toggleable__label-arrow:hover:before {color: black;}#sk-container-id-17 div.sk-estimator:hover label.sk-toggleable__label-arrow:before {color: black;}#sk-container-id-17 div.sk-toggleable__content {max-height: 0;max-width: 0;overflow: hidden;text-align: left;background-color: #f0f8ff;}#sk-container-id-17 div.sk-toggleable__content pre {margin: 0.2em;color: black;border-radius: 0.25em;background-color: #f0f8ff;}#sk-container-id-17 input.sk-toggleable__control:checked~div.sk-toggleable__content {max-height: 200px;max-width: 100%;overflow: auto;}#sk-container-id-17 input.sk-toggleable__control:checked~label.sk-toggleable__label-arrow:before {content: \"▾\";}#sk-container-id-17 div.sk-estimator input.sk-toggleable__control:checked~label.sk-toggleable__label {background-color: #d4ebff;}#sk-container-id-17 div.sk-label input.sk-toggleable__control:checked~label.sk-toggleable__label {background-color: #d4ebff;}#sk-container-id-17 input.sk-hidden--visually {border: 0;clip: rect(1px 1px 1px 1px);clip: rect(1px, 1px, 1px, 1px);height: 1px;margin: -1px;overflow: hidden;padding: 0;position: absolute;width: 1px;}#sk-container-id-17 div.sk-estimator {font-family: monospace;background-color: #f0f8ff;border: 1px dotted black;border-radius: 0.25em;box-sizing: border-box;margin-bottom: 0.5em;}#sk-container-id-17 div.sk-estimator:hover {background-color: #d4ebff;}#sk-container-id-17 div.sk-parallel-item::after {content: \"\";width: 100%;border-bottom: 1px solid gray;flex-grow: 1;}#sk-container-id-17 div.sk-label:hover label.sk-toggleable__label {background-color: #d4ebff;}#sk-container-id-17 div.sk-serial::before {content: \"\";position: absolute;border-left: 1px solid gray;box-sizing: border-box;top: 0;bottom: 0;left: 50%;z-index: 0;}#sk-container-id-17 div.sk-serial {display: flex;flex-direction: column;align-items: center;background-color: white;padding-right: 0.2em;padding-left: 0.2em;position: relative;}#sk-container-id-17 div.sk-item {position: relative;z-index: 1;}#sk-container-id-17 div.sk-parallel {display: flex;align-items: stretch;justify-content: center;background-color: white;position: relative;}#sk-container-id-17 div.sk-item::before, #sk-container-id-17 div.sk-parallel-item::before {content: \"\";position: absolute;border-left: 1px solid gray;box-sizing: border-box;top: 0;bottom: 0;left: 50%;z-index: -1;}#sk-container-id-17 div.sk-parallel-item {display: flex;flex-direction: column;z-index: 1;position: relative;background-color: white;}#sk-container-id-17 div.sk-parallel-item:first-child::after {align-self: flex-end;width: 50%;}#sk-container-id-17 div.sk-parallel-item:last-child::after {align-self: flex-start;width: 50%;}#sk-container-id-17 div.sk-parallel-item:only-child::after {width: 0;}#sk-container-id-17 div.sk-dashed-wrapped {border: 1px dashed gray;margin: 0 0.4em 0.5em 0.4em;box-sizing: border-box;padding-bottom: 0.4em;background-color: white;}#sk-container-id-17 div.sk-label label {font-family: monospace;font-weight: bold;display: inline-block;line-height: 1.2em;}#sk-container-id-17 div.sk-label-container {text-align: center;}#sk-container-id-17 div.sk-container {/* jupyter's `normalize.less` sets `[hidden] { display: none; }` but bootstrap.min.css set `[hidden] { display: none !important; }` so we also need the `!important` here to be able to override the default hidden behavior on the sphinx rendered scikit-learn.org. See: https://github.com/scikit-learn/scikit-learn/issues/21755 */display: inline-block !important;position: relative;}#sk-container-id-17 div.sk-text-repr-fallback {display: none;}</style><div id=\"sk-container-id-17\" class=\"sk-top-container\"><div class=\"sk-text-repr-fallback\"><pre>GridSearchCV(cv=5, estimator=RandomForestRegressor(),\n",
       "             param_grid={&#x27;max_depth&#x27;: [None, 10, 20],\n",
       "                         &#x27;min_samples_split&#x27;: [2, 5, 10],\n",
       "                         &#x27;n_estimators&#x27;: [50, 100, 150]},\n",
       "             scoring=&#x27;neg_mean_squared_error&#x27;)</pre><b>In a Jupyter environment, please rerun this cell to show the HTML representation or trust the notebook. <br />On GitHub, the HTML representation is unable to render, please try loading this page with nbviewer.org.</b></div><div class=\"sk-container\" hidden><div class=\"sk-item sk-dashed-wrapped\"><div class=\"sk-label-container\"><div class=\"sk-label sk-toggleable\"><input class=\"sk-toggleable__control sk-hidden--visually\" id=\"sk-estimator-id-19\" type=\"checkbox\" ><label for=\"sk-estimator-id-19\" class=\"sk-toggleable__label sk-toggleable__label-arrow\">GridSearchCV</label><div class=\"sk-toggleable__content\"><pre>GridSearchCV(cv=5, estimator=RandomForestRegressor(),\n",
       "             param_grid={&#x27;max_depth&#x27;: [None, 10, 20],\n",
       "                         &#x27;min_samples_split&#x27;: [2, 5, 10],\n",
       "                         &#x27;n_estimators&#x27;: [50, 100, 150]},\n",
       "             scoring=&#x27;neg_mean_squared_error&#x27;)</pre></div></div></div><div class=\"sk-parallel\"><div class=\"sk-parallel-item\"><div class=\"sk-item\"><div class=\"sk-label-container\"><div class=\"sk-label sk-toggleable\"><input class=\"sk-toggleable__control sk-hidden--visually\" id=\"sk-estimator-id-20\" type=\"checkbox\" ><label for=\"sk-estimator-id-20\" class=\"sk-toggleable__label sk-toggleable__label-arrow\">estimator: RandomForestRegressor</label><div class=\"sk-toggleable__content\"><pre>RandomForestRegressor()</pre></div></div></div><div class=\"sk-serial\"><div class=\"sk-item\"><div class=\"sk-estimator sk-toggleable\"><input class=\"sk-toggleable__control sk-hidden--visually\" id=\"sk-estimator-id-21\" type=\"checkbox\" ><label for=\"sk-estimator-id-21\" class=\"sk-toggleable__label sk-toggleable__label-arrow\">RandomForestRegressor</label><div class=\"sk-toggleable__content\"><pre>RandomForestRegressor()</pre></div></div></div></div></div></div></div></div></div></div>"
      ],
      "text/plain": [
       "GridSearchCV(cv=5, estimator=RandomForestRegressor(),\n",
       "             param_grid={'max_depth': [None, 10, 20],\n",
       "                         'min_samples_split': [2, 5, 10],\n",
       "                         'n_estimators': [50, 100, 150]},\n",
       "             scoring='neg_mean_squared_error')"
      ]
     },
     "execution_count": 243,
     "metadata": {},
     "output_type": "execute_result"
    }
   ],
   "source": [
    "from sklearn.ensemble import RandomForestRegressor\n",
    "regressor_R = RandomForestRegressor()\n",
    "# Define a grid of hyperparameters to search\n",
    "param_grid = {\n",
    "    'n_estimators': [50, 100, 150],\n",
    "    'max_depth': [None, 10, 20],\n",
    "    'min_samples_split': [2, 5, 10]\n",
    "}\n",
    "\n",
    "# Initialize GridSearchCV\n",
    "grid_search = GridSearchCV(regressor_R, param_grid, cv=5, scoring='neg_mean_squared_error')\n",
    "\n",
    "grid_search.fit( x1_train, y1_train)"
   ]
  },
  {
   "cell_type": "code",
   "execution_count": 245,
   "id": "cacaa2b5",
   "metadata": {},
   "outputs": [],
   "source": [
    "# Get the best hyperparameters and the corresponding model\n",
    "best_params = grid_search.best_params_\n"
   ]
  },
  {
   "cell_type": "code",
   "execution_count": 246,
   "id": "07c5781a",
   "metadata": {},
   "outputs": [
    {
     "name": "stdout",
     "output_type": "stream",
     "text": [
      "Best hyperparameters: {'max_depth': 10, 'min_samples_split': 10, 'n_estimators': 50}\n",
      "RMSE on test set: 1048.7087753880971\n"
     ]
    }
   ],
   "source": [
    "print(\"Best hyperparameters:\", best_params)\n",
    "print(\"RMSE on test set:\", rmse_ran)"
   ]
  },
  {
   "cell_type": "markdown",
   "id": "47cdd008",
   "metadata": {},
   "source": [
    "# Show the predictions of every model"
   ]
  },
  {
   "cell_type": "code",
   "execution_count": 248,
   "id": "54b534a2",
   "metadata": {},
   "outputs": [],
   "source": [
    "predictions_df = pd.DataFrame({\n",
    "    'MultipleLinearRegression': y1_pred.flatten(),\n",
    "    'PolynomialFeatures' :y1_pred_poly.flatten(),\n",
    "    'DecisionTree': y1_pred_decision.flatten(),\n",
    "    'RandomForest': y1_pred_random_forest1.flatten()\n",
    "})"
   ]
  },
  {
   "cell_type": "code",
   "execution_count": 249,
   "id": "82f26f52",
   "metadata": {},
   "outputs": [
    {
     "name": "stdout",
     "output_type": "stream",
     "text": [
      "      MultipleLinearRegression  PolynomialFeatures  DecisionTree  RandomForest\n",
      "0                   571.319086          535.386523      493.3578    575.283406\n",
      "1                  1859.198698         1213.481591     1406.1696   1299.411698\n",
      "2                  3034.443837         3125.461356     3870.9612   3368.059336\n",
      "3                  1374.462433         1467.668443     1298.3100   1402.577010\n",
      "4                   492.640661          601.272490      639.1680    717.124234\n",
      "...                        ...                 ...           ...           ...\n",
      "1700               3032.644593         3082.872761     3874.9560   2956.279352\n",
      "1701               4389.444266         3448.506752     4857.6768   3622.886954\n",
      "1702               2362.019011         2760.210445     2137.8838   2645.187950\n",
      "1703               2187.983610         1497.733388      717.7324   1363.200365\n",
      "1704               2038.183504         2461.605251      288.9572   2626.264363\n",
      "\n",
      "[1705 rows x 4 columns]\n"
     ]
    }
   ],
   "source": [
    "print(predictions_df)"
   ]
  },
  {
   "cell_type": "markdown",
   "id": "8decea03",
   "metadata": {},
   "source": [
    "# Calculate R-sqaured value for each regression model for evaluation"
   ]
  },
  {
   "cell_type": "code",
   "execution_count": 257,
   "id": "4d03d7db",
   "metadata": {},
   "outputs": [
    {
     "name": "stdout",
     "output_type": "stream",
     "text": [
      "R-squared for Multiple Linear Regression: 0.5069049877481504\n"
     ]
    }
   ],
   "source": [
    "from sklearn.metrics import r2_score\n",
    "r2_multiple = r2_score( y1_test , y1_pred)\n",
    "print(\"R-squared for Multiple Linear Regression:\",r2_multiple)"
   ]
  },
  {
   "cell_type": "code",
   "execution_count": 258,
   "id": "8f1ec4ac",
   "metadata": {},
   "outputs": [
    {
     "name": "stdout",
     "output_type": "stream",
     "text": [
      "R-squared Polynomial Regression: 0.6119925358837941\n"
     ]
    }
   ],
   "source": [
    "from sklearn.metrics import r2_score\n",
    "r2_poly = r2_score( y1_test , y1_pred_poly)\n",
    "print(\"R-squared Polynomial Regression:\",r2_poly)"
   ]
  },
  {
   "cell_type": "code",
   "execution_count": 259,
   "id": "e1dfd929",
   "metadata": {},
   "outputs": [
    {
     "name": "stdout",
     "output_type": "stream",
     "text": [
      "R-squared Decision Tree Regession: 0.2353424954941412\n"
     ]
    }
   ],
   "source": [
    "from sklearn.metrics import r2_score\n",
    "r2_decision = r2_score( y1_test , y1_pred_decision)\n",
    "print(\"R-squared Decision Tree Regession:\",r2_decision)"
   ]
  },
  {
   "cell_type": "code",
   "execution_count": 260,
   "id": "02772a6a",
   "metadata": {},
   "outputs": [
    {
     "name": "stdout",
     "output_type": "stream",
     "text": [
      "R-squared Random Forest Regression: 0.5964187657051223\n"
     ]
    }
   ],
   "source": [
    "from sklearn.metrics import r2_score\n",
    "r2_random_forest2 = r2_score( y1_test , y1_pred_random_forest1)\n",
    "print(\"R-squared Random Forest Regression:\",r2_random_forest2)"
   ]
  },
  {
   "cell_type": "markdown",
   "id": "8bb35f90",
   "metadata": {},
   "source": [
    "# Show the R-sqaured values for each regresssion model in dscending order for evaluation"
   ]
  },
  {
   "cell_type": "code",
   "execution_count": 251,
   "id": "d04ecae1",
   "metadata": {},
   "outputs": [
    {
     "data": {
      "text/html": [
       "<div>\n",
       "<style scoped>\n",
       "    .dataframe tbody tr th:only-of-type {\n",
       "        vertical-align: middle;\n",
       "    }\n",
       "\n",
       "    .dataframe tbody tr th {\n",
       "        vertical-align: top;\n",
       "    }\n",
       "\n",
       "    .dataframe thead th {\n",
       "        text-align: right;\n",
       "    }\n",
       "</style>\n",
       "<table border=\"1\" class=\"dataframe\">\n",
       "  <thead>\n",
       "    <tr style=\"text-align: right;\">\n",
       "      <th></th>\n",
       "      <th>Models</th>\n",
       "      <th>R-Sqaured value</th>\n",
       "    </tr>\n",
       "  </thead>\n",
       "  <tbody>\n",
       "    <tr>\n",
       "      <th>1</th>\n",
       "      <td>PolynomialFeatures</td>\n",
       "      <td>0.611993</td>\n",
       "    </tr>\n",
       "    <tr>\n",
       "      <th>3</th>\n",
       "      <td>RandomForest</td>\n",
       "      <td>0.596419</td>\n",
       "    </tr>\n",
       "    <tr>\n",
       "      <th>0</th>\n",
       "      <td>MultipleLinearRegression</td>\n",
       "      <td>0.506905</td>\n",
       "    </tr>\n",
       "    <tr>\n",
       "      <th>2</th>\n",
       "      <td>DecisionTree</td>\n",
       "      <td>0.235342</td>\n",
       "    </tr>\n",
       "  </tbody>\n",
       "</table>\n",
       "</div>"
      ],
      "text/plain": [
       "                     Models  R-Sqaured value\n",
       "1        PolynomialFeatures         0.611993\n",
       "3              RandomForest         0.596419\n",
       "0  MultipleLinearRegression         0.506905\n",
       "2              DecisionTree         0.235342"
      ]
     },
     "execution_count": 251,
     "metadata": {},
     "output_type": "execute_result"
    }
   ],
   "source": [
    "models = pd.DataFrame({\n",
    "    'Models': [ 'MultipleLinearRegression','PolynomialFeatures', 'DecisionTree','RandomForest' ],\n",
    "    'R-Sqaured value': [r2_multiple,r2_poly,r2_decision,r2_random_forest2],\n",
    "      })\n",
    "models.sort_values(by='R-Sqaured value', ascending=False)"
   ]
  },
  {
   "cell_type": "markdown",
   "id": "79546e03",
   "metadata": {},
   "source": [
    "# Calculate Adjusted R-sqaured for each regression model"
   ]
  },
  {
   "cell_type": "code",
   "execution_count": 261,
   "id": "315210b1",
   "metadata": {},
   "outputs": [
    {
     "name": "stdout",
     "output_type": "stream",
     "text": [
      "Adjusted R2 Score for Multiple Regression: 0.5055\n"
     ]
    }
   ],
   "source": [
    "# Number of observations\n",
    "n = len(y1_test)\n",
    "\n",
    "# Number of predictor variables (independent variables)\n",
    "k = 5  # Adjust this value based on your model\n",
    "\n",
    "# Calculate adjusted R2 using statsmodels\n",
    "adjusted_r2_multiple = 1 - (1 - r2_multiple) * (n - 1) / (n - k - 1)\n",
    "\n",
    "print(f'Adjusted R2 Score for Multiple Regression: {adjusted_r2_multiple:.4f}')"
   ]
  },
  {
   "cell_type": "code",
   "execution_count": 262,
   "id": "3b30fdd1",
   "metadata": {},
   "outputs": [
    {
     "name": "stdout",
     "output_type": "stream",
     "text": [
      "Adjusted R2 Score for Polynomial Regression: 0.6109\n"
     ]
    }
   ],
   "source": [
    "# Number of observations\n",
    "n = len(y1_test)\n",
    "\n",
    "# Number of predictor variables (independent variables)\n",
    "k = 5  # Adjust this value based on your model\n",
    "\n",
    "# Calculate adjusted R2 using statsmodels\n",
    "adjusted_r2_poly = 1 - (1 - r2_poly) * (n - 1) / (n - k - 1)\n",
    "\n",
    "print(f'Adjusted R2 Score for Polynomial Regression: {adjusted_r2_poly:.4f}')"
   ]
  },
  {
   "cell_type": "code",
   "execution_count": 263,
   "id": "0a70d543",
   "metadata": {},
   "outputs": [
    {
     "name": "stdout",
     "output_type": "stream",
     "text": [
      "Adjusted R2 Score for Decision Tree Regression: 0.2331\n"
     ]
    }
   ],
   "source": [
    "# Number of observations\n",
    "n = len(y1_test)\n",
    "\n",
    "# Number of predictor variables (independent variables)\n",
    "k = 5 # Adjust this value based on your model\n",
    "\n",
    "# Calculate adjusted R2 using statsmodels\n",
    "adjusted_r2_decision = 1 - (1 - r2_decision) * (n - 1) / (n - k - 1)\n",
    "\n",
    "print(f'Adjusted R2 Score for Decision Tree Regression: {adjusted_r2_decision:.4f}')"
   ]
  },
  {
   "cell_type": "code",
   "execution_count": 265,
   "id": "7ee56b3b",
   "metadata": {},
   "outputs": [
    {
     "name": "stdout",
     "output_type": "stream",
     "text": [
      "Adjusted R2 Score for Random Forest Regression: 0.5952\n"
     ]
    }
   ],
   "source": [
    "# Number of observations\n",
    "n = len(y1_test)\n",
    "\n",
    "# Number of predictor variables (independent variables)\n",
    "k = 5  # Adjust this value based on your model\n",
    "\n",
    "# Calculate adjusted R2 using statsmodels\n",
    "adjusted_r2_random_forest2 = 1 - (1 - r2_random_forest2) * (n - 1) / (n - k - 1)\n",
    "\n",
    "print(f'Adjusted R2 Score for Random Forest Regression: {adjusted_r2_random_forest2:.4f}')"
   ]
  },
  {
   "cell_type": "markdown",
   "id": "f683301d",
   "metadata": {},
   "source": [
    "# Show the Adj-R-Sqaured value for each regression model in dscending order"
   ]
  },
  {
   "cell_type": "code",
   "execution_count": 266,
   "id": "88f3af6d",
   "metadata": {},
   "outputs": [
    {
     "data": {
      "text/html": [
       "<div>\n",
       "<style scoped>\n",
       "    .dataframe tbody tr th:only-of-type {\n",
       "        vertical-align: middle;\n",
       "    }\n",
       "\n",
       "    .dataframe tbody tr th {\n",
       "        vertical-align: top;\n",
       "    }\n",
       "\n",
       "    .dataframe thead th {\n",
       "        text-align: right;\n",
       "    }\n",
       "</style>\n",
       "<table border=\"1\" class=\"dataframe\">\n",
       "  <thead>\n",
       "    <tr style=\"text-align: right;\">\n",
       "      <th></th>\n",
       "      <th>Models</th>\n",
       "      <th>Adjusted R-Sqaured value</th>\n",
       "    </tr>\n",
       "  </thead>\n",
       "  <tbody>\n",
       "    <tr>\n",
       "      <th>1</th>\n",
       "      <td>PolynomialFeatures</td>\n",
       "      <td>0.610851</td>\n",
       "    </tr>\n",
       "    <tr>\n",
       "      <th>3</th>\n",
       "      <td>RandomForest</td>\n",
       "      <td>0.595231</td>\n",
       "    </tr>\n",
       "    <tr>\n",
       "      <th>0</th>\n",
       "      <td>MultipleLinearRegression</td>\n",
       "      <td>0.505454</td>\n",
       "    </tr>\n",
       "    <tr>\n",
       "      <th>2</th>\n",
       "      <td>DecisionTree</td>\n",
       "      <td>0.233092</td>\n",
       "    </tr>\n",
       "  </tbody>\n",
       "</table>\n",
       "</div>"
      ],
      "text/plain": [
       "                     Models  Adjusted R-Sqaured value\n",
       "1        PolynomialFeatures                  0.610851\n",
       "3              RandomForest                  0.595231\n",
       "0  MultipleLinearRegression                  0.505454\n",
       "2              DecisionTree                  0.233092"
      ]
     },
     "execution_count": 266,
     "metadata": {},
     "output_type": "execute_result"
    }
   ],
   "source": [
    "models_2 = pd.DataFrame({\n",
    "    'Models': [ 'MultipleLinearRegression','PolynomialFeatures', 'DecisionTree','RandomForest' ],\n",
    "    'Adjusted R-Sqaured value': [adjusted_r2_multiple,adjusted_r2_poly,adjusted_r2_decision,adjusted_r2_random_forest2],\n",
    "      })\n",
    "models_2.sort_values(by='Adjusted R-Sqaured value', ascending=False)"
   ]
  },
  {
   "cell_type": "markdown",
   "id": "a95e5281",
   "metadata": {},
   "source": [
    "# Calculate RMSE value for each regression model "
   ]
  },
  {
   "cell_type": "code",
   "execution_count": 267,
   "id": "610f17c0",
   "metadata": {},
   "outputs": [
    {
     "name": "stdout",
     "output_type": "stream",
     "text": [
      "RMSE for Multiple Regression: 1159.1902638271847\n"
     ]
    }
   ],
   "source": [
    "mse_value_multiple = mean_squared_error(y1_test , y1_pred)\n",
    "rmse_value_multiple = np.sqrt(mse_value_multiple)\n",
    "print(\"RMSE for Multiple Regression:\", rmse_value_multiple)"
   ]
  },
  {
   "cell_type": "code",
   "execution_count": 268,
   "id": "a87b7fba",
   "metadata": {},
   "outputs": [
    {
     "name": "stdout",
     "output_type": "stream",
     "text": [
      "RMSE for Polynomial Regression: 1028.275433249655\n"
     ]
    }
   ],
   "source": [
    "mse_value_poly = mean_squared_error(y1_test , y1_pred_poly)\n",
    "rmse_value_poly = np.sqrt(mse_value_poly)\n",
    "print(\"RMSE for Polynomial Regression:\", rmse_value_poly)"
   ]
  },
  {
   "cell_type": "code",
   "execution_count": 269,
   "id": "99ac06c8",
   "metadata": {},
   "outputs": [
    {
     "name": "stdout",
     "output_type": "stream",
     "text": [
      "RMSE for DecisionTree Regression: 1443.5203062903608\n"
     ]
    }
   ],
   "source": [
    "mse_value_decision = mean_squared_error(y1_test , y1_pred_decision)\n",
    "rmse_value_decision = np.sqrt(mse_value_decision)\n",
    "print(\"RMSE for DecisionTree Regression:\", rmse_value_decision)"
   ]
  },
  {
   "cell_type": "code",
   "execution_count": 270,
   "id": "6f823b34",
   "metadata": {},
   "outputs": [
    {
     "name": "stdout",
     "output_type": "stream",
     "text": [
      "RMSE for Random Forest: 1048.7087753880971\n"
     ]
    }
   ],
   "source": [
    "mse_value_random_forest = mean_squared_error(y1_test , y1_pred_random_forest1)\n",
    "rmse_value_random_forest = np.sqrt(mse_value_random_forest)\n",
    "print(\"RMSE for Random Forest:\", rmse_value_random_forest)"
   ]
  },
  {
   "cell_type": "markdown",
   "id": "b17e1221",
   "metadata": {},
   "source": [
    "# Show RMSE values for each regression model in dscending order"
   ]
  },
  {
   "cell_type": "code",
   "execution_count": 271,
   "id": "a2a743ea",
   "metadata": {},
   "outputs": [
    {
     "data": {
      "text/html": [
       "<div>\n",
       "<style scoped>\n",
       "    .dataframe tbody tr th:only-of-type {\n",
       "        vertical-align: middle;\n",
       "    }\n",
       "\n",
       "    .dataframe tbody tr th {\n",
       "        vertical-align: top;\n",
       "    }\n",
       "\n",
       "    .dataframe thead th {\n",
       "        text-align: right;\n",
       "    }\n",
       "</style>\n",
       "<table border=\"1\" class=\"dataframe\">\n",
       "  <thead>\n",
       "    <tr style=\"text-align: right;\">\n",
       "      <th></th>\n",
       "      <th>Models</th>\n",
       "      <th>RMSE value</th>\n",
       "    </tr>\n",
       "  </thead>\n",
       "  <tbody>\n",
       "    <tr>\n",
       "      <th>2</th>\n",
       "      <td>DecisionTree</td>\n",
       "      <td>1443.520306</td>\n",
       "    </tr>\n",
       "    <tr>\n",
       "      <th>0</th>\n",
       "      <td>MultipleLinearRegression</td>\n",
       "      <td>1159.190264</td>\n",
       "    </tr>\n",
       "    <tr>\n",
       "      <th>3</th>\n",
       "      <td>RandomForest</td>\n",
       "      <td>1048.708775</td>\n",
       "    </tr>\n",
       "    <tr>\n",
       "      <th>1</th>\n",
       "      <td>PolynomialFeatures</td>\n",
       "      <td>1028.275433</td>\n",
       "    </tr>\n",
       "  </tbody>\n",
       "</table>\n",
       "</div>"
      ],
      "text/plain": [
       "                     Models   RMSE value\n",
       "2              DecisionTree  1443.520306\n",
       "0  MultipleLinearRegression  1159.190264\n",
       "3              RandomForest  1048.708775\n",
       "1        PolynomialFeatures  1028.275433"
      ]
     },
     "execution_count": 271,
     "metadata": {},
     "output_type": "execute_result"
    }
   ],
   "source": [
    "models_3 = pd.DataFrame({\n",
    "    'Models': [ 'MultipleLinearRegression','PolynomialFeatures', 'DecisionTree','RandomForest' ],\n",
    "    'RMSE value': [rmse_value_multiple,rmse_value_poly,rmse_value_decision,rmse_value_random_forest],\n",
    "      })\n",
    "models_3.sort_values(by='RMSE value', ascending=False)"
   ]
  },
  {
   "cell_type": "markdown",
   "id": "b7541e83",
   "metadata": {},
   "source": [
    "# So My conclusion is among all the regression model performed so far Polynomial Regression gives the best model So we predict the test data on Polynomial Regression"
   ]
  },
  {
   "cell_type": "code",
   "execution_count": 272,
   "id": "12612cdd",
   "metadata": {},
   "outputs": [
    {
     "data": {
      "text/html": [
       "<div>\n",
       "<style scoped>\n",
       "    .dataframe tbody tr th:only-of-type {\n",
       "        vertical-align: middle;\n",
       "    }\n",
       "\n",
       "    .dataframe tbody tr th {\n",
       "        vertical-align: top;\n",
       "    }\n",
       "\n",
       "    .dataframe thead th {\n",
       "        text-align: right;\n",
       "    }\n",
       "</style>\n",
       "<table border=\"1\" class=\"dataframe\">\n",
       "  <thead>\n",
       "    <tr style=\"text-align: right;\">\n",
       "      <th></th>\n",
       "      <th>Item_Identifier</th>\n",
       "      <th>Item_Fat_Content</th>\n",
       "      <th>Item_Visibility</th>\n",
       "      <th>Item_Type</th>\n",
       "      <th>Item_MRP</th>\n",
       "      <th>Outlet_Identifier</th>\n",
       "      <th>Outlet_Establishment_Year</th>\n",
       "      <th>Outlet_Size</th>\n",
       "      <th>Outlet_Location_Type</th>\n",
       "      <th>Outlet_Type</th>\n",
       "    </tr>\n",
       "  </thead>\n",
       "  <tbody>\n",
       "    <tr>\n",
       "      <th>0</th>\n",
       "      <td>1103</td>\n",
       "      <td>1</td>\n",
       "      <td>0.007565</td>\n",
       "      <td>13</td>\n",
       "      <td>107.8622</td>\n",
       "      <td>9</td>\n",
       "      <td>1999</td>\n",
       "      <td>1</td>\n",
       "      <td>0</td>\n",
       "      <td>1</td>\n",
       "    </tr>\n",
       "    <tr>\n",
       "      <th>1</th>\n",
       "      <td>1067</td>\n",
       "      <td>4</td>\n",
       "      <td>0.038428</td>\n",
       "      <td>4</td>\n",
       "      <td>87.3198</td>\n",
       "      <td>2</td>\n",
       "      <td>2007</td>\n",
       "      <td>2</td>\n",
       "      <td>1</td>\n",
       "      <td>1</td>\n",
       "    </tr>\n",
       "    <tr>\n",
       "      <th>2</th>\n",
       "      <td>1406</td>\n",
       "      <td>1</td>\n",
       "      <td>0.099575</td>\n",
       "      <td>11</td>\n",
       "      <td>241.7538</td>\n",
       "      <td>0</td>\n",
       "      <td>1998</td>\n",
       "      <td>2</td>\n",
       "      <td>2</td>\n",
       "      <td>0</td>\n",
       "    </tr>\n",
       "    <tr>\n",
       "      <th>3</th>\n",
       "      <td>809</td>\n",
       "      <td>1</td>\n",
       "      <td>0.015388</td>\n",
       "      <td>13</td>\n",
       "      <td>155.0340</td>\n",
       "      <td>2</td>\n",
       "      <td>2007</td>\n",
       "      <td>2</td>\n",
       "      <td>1</td>\n",
       "      <td>1</td>\n",
       "    </tr>\n",
       "    <tr>\n",
       "      <th>4</th>\n",
       "      <td>1184</td>\n",
       "      <td>2</td>\n",
       "      <td>0.118599</td>\n",
       "      <td>4</td>\n",
       "      <td>234.2300</td>\n",
       "      <td>5</td>\n",
       "      <td>1985</td>\n",
       "      <td>1</td>\n",
       "      <td>2</td>\n",
       "      <td>3</td>\n",
       "    </tr>\n",
       "  </tbody>\n",
       "</table>\n",
       "</div>"
      ],
      "text/plain": [
       "   Item_Identifier  Item_Fat_Content  Item_Visibility  Item_Type  Item_MRP  \\\n",
       "0             1103                 1         0.007565         13  107.8622   \n",
       "1             1067                 4         0.038428          4   87.3198   \n",
       "2             1406                 1         0.099575         11  241.7538   \n",
       "3              809                 1         0.015388         13  155.0340   \n",
       "4             1184                 2         0.118599          4  234.2300   \n",
       "\n",
       "   Outlet_Identifier  Outlet_Establishment_Year  Outlet_Size  \\\n",
       "0                  9                       1999            1   \n",
       "1                  2                       2007            2   \n",
       "2                  0                       1998            2   \n",
       "3                  2                       2007            2   \n",
       "4                  5                       1985            1   \n",
       "\n",
       "   Outlet_Location_Type  Outlet_Type  \n",
       "0                     0            1  \n",
       "1                     1            1  \n",
       "2                     2            0  \n",
       "3                     1            1  \n",
       "4                     2            3  "
      ]
     },
     "execution_count": 272,
     "metadata": {},
     "output_type": "execute_result"
    }
   ],
   "source": [
    "test_data.head()"
   ]
  },
  {
   "cell_type": "code",
   "execution_count": null,
   "id": "28f36fde",
   "metadata": {},
   "outputs": [],
   "source": [
    "# Transform the features into polynomial features\n",
    "from sklearn.preprocessing import PolynomialFeatures\n",
    "degree = 3  # Change this to the degree of polynomial you want\n",
    "poly = PolynomialFeatures(degree=degree)\n",
    "x1_train_poly = poly.fit_transform(x1_train)\n",
    "x1_test_poly = poly.transform(x1_test)\n",
    "\n",
    "# Fit a linear regression model to the polynomial features\n",
    "model = LinearRegression()\n",
    "model.fit(x1_train_poly, y1_train)\n",
    "\n",
    "# Make predictions on the test set\n",
    "y1_pred_poly = model.predict(x1_test_poly)"
   ]
  },
  {
   "cell_type": "code",
   "execution_count": 274,
   "id": "6930fa2f",
   "metadata": {},
   "outputs": [],
   "source": [
    "test_data_pred = test_data[['Item_MRP','Outlet_Type','Outlet_Identifier','Item_Visibility','Outlet_Size']].values"
   ]
  },
  {
   "cell_type": "code",
   "execution_count": 279,
   "id": "4373d5d5",
   "metadata": {},
   "outputs": [
    {
     "name": "stdout",
     "output_type": "stream",
     "text": [
      "predicted values on test data: [1756.87 1435.59  656.78 ... 1840.56 3567.13 1188.51]\n"
     ]
    }
   ],
   "source": [
    "test_data_poly=poly.transform(test_data_pred)\n",
    "# Make predictions on the test set\n",
    "y1_pred_poly_test_data = model.predict(test_data_poly)\n",
    "print('predicted values on test data:',y1_pred_poly_test_data)"
   ]
  },
  {
   "cell_type": "code",
   "execution_count": null,
   "id": "497b5655",
   "metadata": {},
   "outputs": [],
   "source": []
  },
  {
   "cell_type": "code",
   "execution_count": 223,
   "id": "f2d4522d",
   "metadata": {},
   "outputs": [
    {
     "name": "stdout",
     "output_type": "stream",
     "text": [
      "Combined predictions saved to combined_predictions.xlsx\n"
     ]
    }
   ],
   "source": [
    "excel_filename = 'combined_predictions.xlsx'\n",
    "predictions_df.to_excel(excel_filename, index=False)\n",
    "\n",
    "print(f\"Combined predictions saved to {excel_filename}\")"
   ]
  },
  {
   "cell_type": "code",
   "execution_count": null,
   "id": "0c401417",
   "metadata": {},
   "outputs": [],
   "source": []
  }
 ],
 "metadata": {
  "kernelspec": {
   "display_name": "Python 3 (ipykernel)",
   "language": "python",
   "name": "python3"
  },
  "language_info": {
   "codemirror_mode": {
    "name": "ipython",
    "version": 3
   },
   "file_extension": ".py",
   "mimetype": "text/x-python",
   "name": "python",
   "nbconvert_exporter": "python",
   "pygments_lexer": "ipython3",
   "version": "3.11.2"
  }
 },
 "nbformat": 4,
 "nbformat_minor": 5
}
